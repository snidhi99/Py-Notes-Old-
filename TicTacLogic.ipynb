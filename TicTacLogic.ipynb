{
  "nbformat": 4,
  "nbformat_minor": 0,
  "metadata": {
    "colab": {
      "provenance": []
    },
    "kernelspec": {
      "name": "python3",
      "display_name": "Python 3"
    },
    "language_info": {
      "name": "python"
    }
  },
  "cells": [
    {
      "cell_type": "code",
      "source": [
        "# SAMPLE INPUT LIST\n",
        "game_list = [0, 1, 2]\n",
        "\n",
        "\n",
        "# DISPLAY INFORMATION\n",
        "\n",
        "def displayGame(game_list):\n",
        "    print(\"The initial Game List (values) taken: \", game_list)\n",
        "\n",
        "\n",
        "# CHOOSE POSITION (INDEX)\n",
        "\n",
        "def indexChoice():\n",
        "\n",
        "    choice = 'WRONG'\n",
        "    while choice not in ['0', '1', '2']:\n",
        "        choice = input(\"Enter the index (0, 1, 2): \")\n",
        "\n",
        "        if choice not in ['0', '1', '2']:\n",
        "            print(\"Invalid input! Try again.\")\n",
        "\n",
        "    choice = int(choice)\n",
        "    return choice\n",
        "\n",
        "\n",
        "# REPLACEMENT VALUE\n",
        "def replacementChoice(game_list, choice):\n",
        "    replacement_value = input(\n",
        "        \"Enter a string/number to replace in the selected position: \")\n",
        "    game_list[choice] = replacement_value\n",
        "    return game_list\n",
        "\n",
        "# CONTINUE GAME?\n",
        "\n",
        "\n",
        "def continueGame():\n",
        "\n",
        "    choice = 'WRONG'\n",
        "    while choice not in ['Y', 'N']:\n",
        "        print(\"Do you want to continue the game (Y/N)? \")\n",
        "\n",
        "        if choice not in range(0, 3):\n",
        "            print(\"Game over! Exiting now.\")\n",
        "\n",
        "    if choice == 'Y':\n",
        "        return True\n",
        "    else:\n",
        "        return False\n",
        "\n",
        "\n",
        "# CALLING FUNCTIONS\n",
        "gameOn = True\n",
        "game_list = [0, 1, 2]\n",
        "\n",
        "while gameOn:\n",
        "    displayGame(game_list)\n",
        "    position = indexChoice()\n",
        "    game_list = replacementChoice(game_list, choice)\n",
        "    displayGame(game_list)\n",
        "    gameOn = continueGame()"
      ],
      "metadata": {
        "colab": {
          "base_uri": "https://localhost:8080/",
          "height": 347
        },
        "id": "CCaZGsG5Wp6j",
        "outputId": "64c6e118-ce2c-46ba-bbd2-3022d1342e15"
      },
      "execution_count": 1,
      "outputs": [
        {
          "name": "stdout",
          "output_type": "stream",
          "text": [
            "The initial Game List (values) taken:  [0, 1, 2]\n",
            "Enter the index (0, 1, 2): \n",
            "Invalid input! Try again.\n",
            "Enter the index (0, 1, 2): 2\n"
          ]
        },
        {
          "output_type": "error",
          "ename": "NameError",
          "evalue": "ignored",
          "traceback": [
            "\u001b[0;31m---------------------------------------------------------------------------\u001b[0m",
            "\u001b[0;31mNameError\u001b[0m                                 Traceback (most recent call last)",
            "\u001b[0;32m<ipython-input-1-38abe11d6a3a>\u001b[0m in \u001b[0;36m<cell line: 55>\u001b[0;34m()\u001b[0m\n\u001b[1;32m     56\u001b[0m     \u001b[0mdisplayGame\u001b[0m\u001b[0;34m(\u001b[0m\u001b[0mgame_list\u001b[0m\u001b[0;34m)\u001b[0m\u001b[0;34m\u001b[0m\u001b[0;34m\u001b[0m\u001b[0m\n\u001b[1;32m     57\u001b[0m     \u001b[0mposition\u001b[0m \u001b[0;34m=\u001b[0m \u001b[0mindexChoice\u001b[0m\u001b[0;34m(\u001b[0m\u001b[0;34m)\u001b[0m\u001b[0;34m\u001b[0m\u001b[0;34m\u001b[0m\u001b[0m\n\u001b[0;32m---> 58\u001b[0;31m     \u001b[0mgame_list\u001b[0m \u001b[0;34m=\u001b[0m \u001b[0mreplacementChoice\u001b[0m\u001b[0;34m(\u001b[0m\u001b[0mgame_list\u001b[0m\u001b[0;34m,\u001b[0m \u001b[0mchoice\u001b[0m\u001b[0;34m)\u001b[0m\u001b[0;34m\u001b[0m\u001b[0;34m\u001b[0m\u001b[0m\n\u001b[0m\u001b[1;32m     59\u001b[0m     \u001b[0mdisplayGame\u001b[0m\u001b[0;34m(\u001b[0m\u001b[0mgame_list\u001b[0m\u001b[0;34m)\u001b[0m\u001b[0;34m\u001b[0m\u001b[0;34m\u001b[0m\u001b[0m\n\u001b[1;32m     60\u001b[0m     \u001b[0mgameOn\u001b[0m \u001b[0;34m=\u001b[0m \u001b[0mcontinueGame\u001b[0m\u001b[0;34m(\u001b[0m\u001b[0;34m)\u001b[0m\u001b[0;34m\u001b[0m\u001b[0;34m\u001b[0m\u001b[0m\n",
            "\u001b[0;31mNameError\u001b[0m: name 'choice' is not defined"
          ]
        }
      ]
    },
    {
      "cell_type": "markdown",
      "source": [
        "LOGIC BEHIND CODE"
      ],
      "metadata": {
        "id": "XM51Q1JLXCrE"
      }
    },
    {
      "cell_type": "code",
      "source": [
        "#DISPLAYING INFORMATION\n",
        "def display(row1, row2, row3):\n",
        "  print(row1)\n",
        "  print(row2)\n",
        "  print(row3)"
      ],
      "metadata": {
        "id": "aDneqKiPbIhK"
      },
      "execution_count": null,
      "outputs": []
    },
    {
      "cell_type": "code",
      "source": [
        "row1 = ['','','']\n",
        "row2 = ['','','']\n",
        "row3 = ['','','']"
      ],
      "metadata": {
        "id": "xSJEsRq8bLv0"
      },
      "execution_count": null,
      "outputs": []
    },
    {
      "cell_type": "code",
      "source": [
        "display(row1,row2,row3)"
      ],
      "metadata": {
        "id": "ecHnDOBKbQMG"
      },
      "execution_count": null,
      "outputs": []
    },
    {
      "cell_type": "code",
      "source": [
        "#ACCEPTING USER INPUT\n",
        "def user_position():\n",
        "  position = 'WRONG'\n",
        "  position_acceptable_values = range(0,10) #number should be in this range 0-9\n",
        "  within_range = False #for checking\n",
        "\n",
        "#isdigit() - checks if number is a digit or not\n",
        "#in the case of the input \"position\" not being a number and not in range\n",
        "  while position.isdigit() == False or within_range == False :\n",
        "\n",
        "    #ask for input\n",
        "      position = (input(\"Choose the index position (0-9): \"))\n",
        "\n",
        "\n",
        "  #within digits check - if input is not a digit, display this\n",
        "      if position.isdigit() == False:\n",
        "        print(\"Sorry, this is not a digit! Try again\")\n",
        "\n",
        "  #if input is a digit && if int(input) is in the range set by us\n",
        "      if position.isdigit() == True:\n",
        "        if int(position) in position_acceptable_values:\n",
        "          within_range = True #then, it is in range\n",
        "        else:\n",
        "          print(\"Not in acceptable range!\")\n",
        "          within_range = False\n",
        "\n",
        "  return int(position)\n",
        "\n",
        "  '''\n",
        "\n",
        "def user_choice():\n",
        "\n",
        "  choice_acceptable_values = ['X','O']\n",
        "\n",
        "  while choice == 'X' or choice == 'O':\n",
        "    if choice in choice_acceptable_values:\n",
        "      choice = input(\"Choose your value ('X' or 'O'): \")\n",
        "    else:\n",
        "      pass\n",
        "  return choice\n",
        "'''"
      ],
      "metadata": {
        "id": "u_-PMBKMbW3w"
      },
      "execution_count": null,
      "outputs": []
    },
    {
      "cell_type": "code",
      "source": [
        "user_position()\n",
        "#user_choice()"
      ],
      "metadata": {
        "id": "fyqrnUQHbowv"
      },
      "execution_count": null,
      "outputs": []
    }
  ]
}