{
  "nbformat": 4,
  "nbformat_minor": 0,
  "metadata": {
    "colab": {
      "provenance": []
    },
    "kernelspec": {
      "name": "python3",
      "display_name": "Python 3"
    },
    "language_info": {
      "name": "python"
    }
  },
  "cells": [
    {
      "cell_type": "markdown",
      "source": [
        "CODE WITH MOSH - PYTHON CHEATSHEET\n",
        "\n",
        "\n"
      ],
      "metadata": {
        "id": "Xr_vCCEIBQIk"
      }
    },
    {
      "cell_type": "markdown",
      "source": [
        "SETTING UP VSCODE"
      ],
      "metadata": {
        "id": "bAAoZWDdzTnN"
      }
    },
    {
      "cell_type": "code",
      "source": [
        "#View -> Command palette: Format document (AutoPep8)\n",
        "#(does automatic indentation) -> go to Preferences -> settings -> FormatOnSave\n",
        "\n",
        "#View -> Command palette: lint -> Select linter -> pylint\n",
        "#(error msgs are easy to understand)\n",
        "\n",
        "#extensions -> code runner"
      ],
      "metadata": {
        "id": "e6Wpw_IPCzKn"
      },
      "execution_count": null,
      "outputs": []
    },
    {
      "cell_type": "markdown",
      "source": [
        "DATA TYPES"
      ],
      "metadata": {
        "id": "7Yc3IeAYm8ze"
      }
    },
    {
      "cell_type": "code",
      "source": [
        "#int = 1, 2, 3\n",
        "#float = 1.0, 2.2, 3.45\n",
        "#str = \"abc\", 'crow'   #immutable\n",
        "#list = [a,1,\"hi\"]     # mutable, ordered\n",
        "#tup = ()              # immutable\n",
        "#dict = {}             #unordered #mutable\n",
        "#set = {}     #both dict and set have {} except that dict has key, value pairs and set has only value\n",
        "#bool = True/False"
      ],
      "metadata": {
        "id": "Fr5yKjb4y5Zx"
      },
      "execution_count": null,
      "outputs": []
    },
    {
      "cell_type": "markdown",
      "source": [
        "NUMBERS (INT, FLOAT)"
      ],
      "metadata": {
        "id": "87sLrtf2ENkW"
      }
    },
    {
      "cell_type": "code",
      "source": [
        "print(2+2) #gives int\n",
        "print(2>1) #gives boolean\n",
        "\n",
        "#TYPE CAST\n",
        "#Changing float number 4.0 to int 4\n",
        "number = 4.0\n",
        "int(number) #4"
      ],
      "metadata": {
        "colab": {
          "base_uri": "https://localhost:8080/"
        },
        "id": "_jA7CG8wBSq0",
        "outputId": "4beff7b8-b13c-42b3-cf38-4202a23b00c6"
      },
      "execution_count": 1,
      "outputs": [
        {
          "output_type": "stream",
          "name": "stdout",
          "text": [
            "4\n",
            "True\n"
          ]
        },
        {
          "output_type": "execute_result",
          "data": {
            "text/plain": [
              "4"
            ]
          },
          "metadata": {},
          "execution_count": 1
        }
      ]
    },
    {
      "cell_type": "code",
      "source": [
        "print(7 / 4) #division - float\n",
        "print(7 % 4) #modulo - int\n",
        "#enclose these numbers within print () so both lines are printed. Else overriding occurs\n",
        "\n",
        "2 + 10 * 10 + 2 #here * is taken first as per bodmas. Use brackets if + should be taken first"
      ],
      "metadata": {
        "id": "c3F-f5VlEPmu",
        "colab": {
          "base_uri": "https://localhost:8080/"
        },
        "outputId": "3f9ef802-f52e-4e0b-b08e-17359917e08c"
      },
      "execution_count": null,
      "outputs": [
        {
          "output_type": "stream",
          "name": "stdout",
          "text": [
            "1.75\n",
            "3\n"
          ]
        }
      ]
    },
    {
      "cell_type": "markdown",
      "source": [
        "VARIABLES\n",
        "\n"
      ],
      "metadata": {
        "id": "cZoleD9wwhKq"
      }
    },
    {
      "cell_type": "code",
      "source": [
        "a = 20.1\n",
        "type(a) #float"
      ],
      "metadata": {
        "colab": {
          "base_uri": "https://localhost:8080/"
        },
        "id": "XBtKxwvcthzh",
        "outputId": "0f6d25f1-7ea1-44f8-a3a1-72769a2c57af"
      },
      "execution_count": 2,
      "outputs": [
        {
          "output_type": "execute_result",
          "data": {
            "text/plain": [
              "float"
            ]
          },
          "metadata": {},
          "execution_count": 2
        }
      ]
    },
    {
      "cell_type": "markdown",
      "source": [
        "STRINGS"
      ],
      "metadata": {
        "id": "hTvg64Pyxcg1"
      }
    },
    {
      "cell_type": "code",
      "source": [
        "new_string = \"hello\"\n",
        "# indexing  h  e  l  l  o\n",
        "#           0  1  2  3  4\n",
        "#           0 -4 -3 -2 -1"
      ],
      "metadata": {
        "id": "wc5l55Wixd40"
      },
      "execution_count": 3,
      "outputs": []
    },
    {
      "cell_type": "code",
      "source": [
        "#slicing [start:stop:step] => [FIRST INDEX: LAST INDEX - 1: STEP]\n",
        "\n",
        "#escape sequences \\n - new line, \\t - tab\n",
        "\n",
        "#length\n",
        "len('hey s') #5"
      ],
      "metadata": {
        "colab": {
          "base_uri": "https://localhost:8080/"
        },
        "id": "I6vKb4sIxpGR",
        "outputId": "7a2bc25e-a587-4051-9cb2-c4fdd5ef9924"
      },
      "execution_count": 4,
      "outputs": [
        {
          "output_type": "execute_result",
          "data": {
            "text/plain": [
              "5"
            ]
          },
          "metadata": {},
          "execution_count": 4
        }
      ]
    },
    {
      "cell_type": "code",
      "source": [
        "#concatenation\n",
        "myname = \"nidhi\"\n",
        "print(\"hey \" + myname)"
      ],
      "metadata": {
        "colab": {
          "base_uri": "https://localhost:8080/"
        },
        "id": "2QOQDIAMGBej",
        "outputId": "9e1672ca-2f62-40e0-84d0-3cd5857871ab"
      },
      "execution_count": 5,
      "outputs": [
        {
          "output_type": "stream",
          "name": "stdout",
          "text": [
            "hey nidhi\n"
          ]
        }
      ]
    },
    {
      "cell_type": "code",
      "source": [
        "#.format()\n",
        "print(\"this is a {}\".format(\"fox\"))\n",
        "\n",
        "#.format() function with indexing\n",
        "print(\"this is a {1} brown {0} here\".format(\"fox\",\"quick\"))\n",
        "\n",
        "#also allocate variables\n",
        "print(\"this is a {q} brown {f} here\".format(f=\"fox\",q=\"quick\"))\n",
        "\n",
        "\n",
        "#float formatting \"{value:width.precision f}\"\n",
        "result = 1.23456789\n",
        "print(\"the result is {r:1.3f}\".format(r=result)) #3f for 3 decimals, width 1 is for spacing\n",
        "\n",
        "#f strings (or) formatted string literals\n",
        "name = \"jose\"\n",
        "print(\"his name is {}\".format(name)) #normal expression\n",
        "print(f\"his name is {name}\") #f strings - injects variable into curly braces"
      ],
      "metadata": {
        "colab": {
          "base_uri": "https://localhost:8080/"
        },
        "id": "6aBcGF2fTBHb",
        "outputId": "19cd1307-9c3d-4d50-ddd8-0be800d26118"
      },
      "execution_count": 6,
      "outputs": [
        {
          "output_type": "stream",
          "name": "stdout",
          "text": [
            "this is a fox\n",
            "this is a quick brown fox here\n",
            "this is a quick brown fox here\n",
            "the result is 1.235\n",
            "his name is jose\n",
            "his name is jose\n"
          ]
        }
      ]
    },
    {
      "cell_type": "markdown",
      "source": [
        "METHODS ()"
      ],
      "metadata": {
        "id": "mefBlmfeERAz"
      }
    },
    {
      "cell_type": "code",
      "source": [
        "x = \"Hello World\"\n",
        "x.upper() #all caps\n",
        "x.lower() #all small letters\n",
        "\n",
        "y = \"hi this is a string\"\n",
        "y.split() #['hi', 'this', 'is', 'a', 'string']\n",
        "y.split('i') #['h', ' th', 's ', 's a str', 'ng']"
      ],
      "metadata": {
        "colab": {
          "base_uri": "https://localhost:8080/"
        },
        "id": "0vL7sn1R6XoD",
        "outputId": "ad3b1f6a-ada1-48eb-eca1-0788474bca8e"
      },
      "execution_count": 7,
      "outputs": [
        {
          "output_type": "execute_result",
          "data": {
            "text/plain": [
              "['h', ' th', 's ', 's a str', 'ng']"
            ]
          },
          "metadata": {},
          "execution_count": 7
        }
      ]
    },
    {
      "cell_type": "markdown",
      "source": [
        "LISTS []"
      ],
      "metadata": {
        "id": "CBtEsC7AFQqI"
      }
    },
    {
      "cell_type": "code",
      "source": [
        "mylist = [1,2.3,\"hey\"]\n",
        "len(mylist) #3\n",
        "mylist[1:] #[2.3,\"hey\"]\n",
        "\n",
        "twolist = [4,5]\n",
        "\n",
        "#concatenation\n",
        "newlist = mylist + twolist\n",
        "newlist #[1,2.3,\"hey,4,5]\n",
        "\n",
        "#change element\n",
        "newlist[0] = \"ONE\" #['ONE', 2.3, 'hey', 4, 5]\n",
        "\n",
        "#ADD ELEMENTS TO END\n",
        "newlist.append('six') #['ONE', 2.3, 'hey', 4, 5, 'six']\n",
        "newlist\n",
        "\n",
        "#REMOVE ELEMENTS FROM END OF LIST (POP BY DEFAULT REMOVES LAST ELEMENT)\n",
        "newlist.pop() #removes last element from list, and also returns the value of removed element as output\n",
        "newlist #['ONE', 2.3, 'hey', 4, 5]\n",
        "poppedlist = newlist.pop() #5 is removed\n",
        "poppedlist #5 is the output returned\n",
        "newlist #['ONE', 2.3, 'hey', 4]\n",
        "\n",
        "#REMOVE ELEMENTS FROM MIDDLE\n",
        "newlist.pop(1) #2.3 is removed\n",
        "newlist #['ONE', 'hey', 4]\n",
        "\n",
        "#SORTING - DO NOT DO THESE STEPS CAUSE \"NONE\"\n",
        "newl = [1,6,3,4,2,5]\n",
        "newl.sort() #doesnt return anything but sorts!! SO YOU CANT PRINT THIS\n",
        "newl #[1, 2, 3, 4, 5, 6]\n",
        "sortedlist = newl.sort()\n",
        "type(sortedlist) #NoneType\n",
        "#NoneType corresponds to the type for the \"None\" object (special object in Py)\n",
        "#this None indicated no value and is the return value of a method that returns no value\n",
        "\n",
        "#SORTING - DO IT THIS WAY\n",
        "newl2 = [1,4,7,3,9]\n",
        "newl2.sort() #first sorts\n",
        "newl2 #prints [1, 3, 4, 7, 9] sorted output\n",
        "sorted = newl2\n",
        "sorted #[1, 3, 4, 7, 9]\n",
        "\n",
        "#REVERSE\n",
        "newl2.reverse() #reverses elements\n",
        "newl2 #[9, 7, 4, 3, 1]\n",
        "\n",
        "#NESTEDLIST\n",
        "nestedlist = [1,1,[1,2]] #list within a list is nested list\n",
        "#if we want to return \"2\" from the nested list:\n",
        "nestedlist[2][1] #returns 2\n",
        "#[2][1] where index [2] is for returning [1,2], index [1] is for returning 2 (in this case [0] will be for 1)\n",
        "\n",
        "\n",
        "#SORTED KEYWORD\n",
        "#sorted(list1) is the same as list1.sort()"
      ],
      "metadata": {
        "colab": {
          "base_uri": "https://localhost:8080/"
        },
        "id": "oawIwai8FRgT",
        "outputId": "aecc4d04-e42b-4915-8eb6-1c65d5152775"
      },
      "execution_count": null,
      "outputs": [
        {
          "output_type": "execute_result",
          "data": {
            "text/plain": [
              "2"
            ]
          },
          "metadata": {},
          "execution_count": 55
        }
      ]
    },
    {
      "cell_type": "markdown",
      "source": [
        "DICTIONARIES {}"
      ],
      "metadata": {
        "id": "70HTFOxmScTK"
      }
    },
    {
      "cell_type": "code",
      "source": [
        "#SYNTAX dic = {'key1':\"value1\", 'key2':\"value2\"}\n",
        "#Call dic['key1] #o/p is \"value1\"\n",
        "#for value, do not give '' for integer\n",
        "\n",
        "dict1 = {'a':'123','b':[1,2,3],'c':{'c1':1234}}\n",
        "#return [1,2,3]\n",
        "dict1['b'] #[1,2,3]\n",
        "dict1['b'][1] #returns 2\n",
        "\n",
        "#return 1234\n",
        "dict1['c']['c1'] #1234"
      ],
      "metadata": {
        "colab": {
          "base_uri": "https://localhost:8080/"
        },
        "id": "aI4PspwQSdde",
        "outputId": "460a10f8-d8aa-4c3c-e131-ec6840bec2e6"
      },
      "execution_count": null,
      "outputs": [
        {
          "output_type": "execute_result",
          "data": {
            "text/plain": [
              "1234"
            ]
          },
          "metadata": {},
          "execution_count": 64
        }
      ]
    },
    {
      "cell_type": "code",
      "source": [
        "#UPDATE ELEMENT\n",
        "d = {'key1':['a','b','c']}\n",
        "\n",
        "upd = d['key1'][1].upper()\n",
        "upd #output will only be \"B\" as upper() returns single value\n",
        "\n",
        "d['key1'][1] = upd #use this to update based on index\n",
        "d  #{'key1': ['a', 'B', 'c']}\n",
        "\n",
        "#ADD NEW ELEMENT TO DICT\n",
        "d['key2'] = [1,2]\n",
        "d                   #{'key1': ['a', 'B', 'c'], 'key2': [1, 2]}\n",
        "\n",
        "#RETURN ALL KEYS\n",
        "d.keys() #dict_keys(['key1', 'key2'])\n",
        "\n",
        "#RETURN ALL VALUES\n",
        "d.values() #dict_values([['a', 'B', 'c'], [1, 2]])\n",
        "\n",
        "#RETURN ALL ITEMS (PAIRS)\n",
        "d.items() #dict_items([('key1', ['a', 'B', 'c']), ('key2', [1, 2])])"
      ],
      "metadata": {
        "colab": {
          "base_uri": "https://localhost:8080/"
        },
        "id": "1IkAiObe3b5m",
        "outputId": "3cd94f1a-6d54-4c63-8d82-71c08ed8a4aa"
      },
      "execution_count": null,
      "outputs": [
        {
          "output_type": "execute_result",
          "data": {
            "text/plain": [
              "dict_items([('key1', ['a', 'B', 'c']), ('key2', [1, 2])])"
            ]
          },
          "metadata": {},
          "execution_count": 17
        }
      ]
    },
    {
      "cell_type": "markdown",
      "source": [
        "TUPLES ()"
      ],
      "metadata": {
        "id": "fpixvI_96frt"
      }
    },
    {
      "cell_type": "code",
      "source": [
        "#TUPLES ARE GENERALLY NOT USED BY PROGRAMMERS\n",
        "#BUT WHEN WE DO ADVANCED PROGRAMMING, TO MAINTAIN \"DATA INTEGRITY\", THAT IS,\n",
        "#TO MAKE SURE THAT THE ELEMENTS DONT GET ACCIDENTALLY CHANGED, WE GO FOR TUPLES\n",
        "\n",
        "t = ('one',2,3,3)\n",
        "len(t) #4\n",
        "type(t) #tuple\n",
        "t.count(3) #2\n",
        "t.count('one') #1\n",
        "t.index(3) #2 - returns the index of the first occurance\n",
        "t.index('one') #0\n",
        "\n",
        "#UPDATE ELEMENT - CANNOT CAUSE TUPLES ARE IMMUTABLE\n",
        "t[0]='ONE' #TYPE ERROR - #UPDATE ELEMENT - CANNOT CAUSE TUPLES ARE IMMUTABLE\n"
      ],
      "metadata": {
        "colab": {
          "base_uri": "https://localhost:8080/",
          "height": 240
        },
        "id": "jHYv5ZQy6hQ2",
        "outputId": "081f18f1-1082-4277-e812-bb050a0aa596"
      },
      "execution_count": null,
      "outputs": [
        {
          "output_type": "error",
          "ename": "TypeError",
          "evalue": "ignored",
          "traceback": [
            "\u001b[0;31m---------------------------------------------------------------------------\u001b[0m",
            "\u001b[0;31mTypeError\u001b[0m                                 Traceback (most recent call last)",
            "\u001b[0;32m<ipython-input-24-a2cdc5a54895>\u001b[0m in \u001b[0;36m<cell line: 10>\u001b[0;34m()\u001b[0m\n\u001b[1;32m      8\u001b[0m \u001b[0;34m\u001b[0m\u001b[0m\n\u001b[1;32m      9\u001b[0m \u001b[0;31m#UPDATE ELEMENT - CANNOT CAUSE TUPLES ARE IMMUTABLE\u001b[0m\u001b[0;34m\u001b[0m\u001b[0;34m\u001b[0m\u001b[0m\n\u001b[0;32m---> 10\u001b[0;31m \u001b[0mt\u001b[0m\u001b[0;34m[\u001b[0m\u001b[0;36m0\u001b[0m\u001b[0;34m]\u001b[0m\u001b[0;34m=\u001b[0m\u001b[0;34m'ONE'\u001b[0m\u001b[0;34m\u001b[0m\u001b[0;34m\u001b[0m\u001b[0m\n\u001b[0m",
            "\u001b[0;31mTypeError\u001b[0m: 'tuple' object does not support item assignment"
          ]
        }
      ]
    },
    {
      "cell_type": "markdown",
      "source": [
        "SETS"
      ],
      "metadata": {
        "id": "_otz7bZe9VhI"
      }
    },
    {
      "cell_type": "code",
      "source": [
        "myset = set()\n",
        "myset #set()\n",
        "\n",
        "myset.add(1)\n",
        "myset #{1}\n",
        "myset.add(2)\n",
        "myset #{1,2}\n",
        "\n",
        "#ADDING DUPLICATES WONT REFLECT - CAUSE HAS TO BE UNIQUE SET OF ELEMENTS\n",
        "myset.add(2)\n",
        "myset #{1, 2}\n",
        "\n",
        "#CASTING LIST AS SET\n",
        "mylist = [4,4,4,1,1,1,1,2,2,3,3,3]\n",
        "set(mylist) #{1, 2, 3, 4}\n",
        "#it only orders in ascending to give output"
      ],
      "metadata": {
        "colab": {
          "base_uri": "https://localhost:8080/"
        },
        "id": "9nuAMmyh9Wrk",
        "outputId": "a3d44059-1de7-4d72-e8c9-862e0ba37da8"
      },
      "execution_count": null,
      "outputs": [
        {
          "output_type": "execute_result",
          "data": {
            "text/plain": [
              "{1, 2, 3, 4}"
            ]
          },
          "metadata": {},
          "execution_count": 34
        }
      ]
    },
    {
      "cell_type": "markdown",
      "source": [
        "BOOLEANS - TRUE/FALSE"
      ],
      "metadata": {
        "id": "HZ1d184k-4VX"
      }
    },
    {
      "cell_type": "code",
      "source": [
        "#CASE SENSITIVE\n",
        "#SHOULD BE True and not true\n",
        "#type(false) #NameError\n",
        "type(False) #bool\n",
        "\n",
        "1>2 #False"
      ],
      "metadata": {
        "colab": {
          "base_uri": "https://localhost:8080/"
        },
        "id": "i5V5UtTR-5lT",
        "outputId": "fef7a11d-1e2d-4fb2-881d-a18d645908bb"
      },
      "execution_count": null,
      "outputs": [
        {
          "output_type": "execute_result",
          "data": {
            "text/plain": [
              "False"
            ]
          },
          "metadata": {},
          "execution_count": 40
        }
      ]
    },
    {
      "cell_type": "markdown",
      "source": [
        "I/O"
      ],
      "metadata": {
        "id": "KRFKCIyJErGY"
      }
    },
    {
      "cell_type": "code",
      "source": [
        "from typing import Text\n",
        "%%writefile myfile.Text #magically writes file\n",
        "Hi this is a text file\n",
        "line 1\n",
        "line 2\n",
        "line 3\n",
        "\n",
        "#OPEN\n",
        "myfile = open('myfile.txt') #Errno 2] No such file or directory: 'myfile.txt' - if file not in jupyter directory or path not mentioned properly\n",
        "\n",
        "#PRINTS O/P OF FILE\n",
        "myfile.read()\n",
        "#if you execute this again, you will get output '' because the cursor on\n",
        "#line 1 has reached end of text file. So we reset\n",
        "myfile.seek(0)\n",
        "\n",
        "#READ EACH LINE\n",
        "myfile.readlines() #this will put each line separately\n",
        "\n",
        "#LOCATION\n",
        "myfile = open(\"/Users/UserName/Folder/myfile.txt\")\n",
        "\n",
        "#CLOSE FILE\n",
        "myfile.close\n",
        "\n",
        "#OPEN FILE AS DIFFERENT Name\n",
        "with open('myfile.txt', mode = 'r') as my_new_file:\n",
        "    contents = my_new_file.read()\n",
        "\n",
        "contents #prints as new file name, the contents\n",
        "\n",
        "#MODES - R, W, a\n",
        "mode = 'r' is read\n",
        "mode = 'w' is read\n",
        "mode = 'a' is append (can add new lines to end of existing file)\n",
        "mode = 'r+' is read and write\n",
        "mode = 'w+' is write and read (overwrite/create new file)\n",
        "\n",
        "#READS FILE AND PRINTS\n",
        "with open('myfile.txt', mode = 'r') as my_new_file:\n",
        "    print(my_new_file.read())\n",
        "\n",
        "#WRITING contents\n",
        "with open('myfile.txt', mode = 'w') as my_new_file:\n",
        "    my_new_file.write('writing one more line here!')\n",
        "\n",
        "#IF FILE NAME DOESNT EXIST, IN MODE 'W', A NEW FILE IS CREATED IN PLACE\n"
      ],
      "metadata": {
        "colab": {
          "base_uri": "https://localhost:8080/",
          "height": 222
        },
        "id": "fRkjEvxkEswk",
        "outputId": "3924b4bf-214c-4052-ad42-e67960a19b3d"
      },
      "execution_count": null,
      "outputs": [
        {
          "output_type": "error",
          "ename": "FileNotFoundError",
          "evalue": "ignored",
          "traceback": [
            "\u001b[0;31m---------------------------------------------------------------------------\u001b[0m",
            "\u001b[0;31mFileNotFoundError\u001b[0m                         Traceback (most recent call last)",
            "\u001b[0;32m<ipython-input-41-bcc52abbed12>\u001b[0m in \u001b[0;36m<cell line: 2>\u001b[0;34m()\u001b[0m\n\u001b[1;32m      1\u001b[0m \u001b[0;31m#OPEN\u001b[0m\u001b[0;34m\u001b[0m\u001b[0;34m\u001b[0m\u001b[0m\n\u001b[0;32m----> 2\u001b[0;31m \u001b[0mmyfile\u001b[0m \u001b[0;34m=\u001b[0m \u001b[0mopen\u001b[0m\u001b[0;34m(\u001b[0m\u001b[0;34m'myfile.txt'\u001b[0m\u001b[0;34m)\u001b[0m\u001b[0;34m\u001b[0m\u001b[0;34m\u001b[0m\u001b[0m\n\u001b[0m",
            "\u001b[0;31mFileNotFoundError\u001b[0m: [Errno 2] No such file or directory: 'myfile.txt'"
          ]
        }
      ]
    },
    {
      "cell_type": "code",
      "source": [
        "#TEST\n",
        "#1\n",
        "(((2**4)+(4))-(100/10))*10+0.25\n",
        "\n",
        "#2\n",
        "a = 3 +1.5+4\n",
        "type(a)\n",
        "\n",
        "#3 SQUARE ROOT\n",
        "int(4**(1/2))\n",
        "\n",
        "\n",
        "#4\n",
        "s='hello'\n",
        "\n",
        "#5\n",
        "d = {'k1':[{'nest_key':['this is deep',['hello']]}]}\n",
        "\n",
        "#Grab hello\n",
        "d['k1'][0]['nest_key'][1][0]\n"
      ],
      "metadata": {
        "colab": {
          "base_uri": "https://localhost:8080/",
          "height": 35
        },
        "id": "26fPdZRgLC1Z",
        "outputId": "d80d5881-0c98-47d2-825b-63b010184927"
      },
      "execution_count": null,
      "outputs": [
        {
          "output_type": "execute_result",
          "data": {
            "text/plain": [
              "'hello'"
            ],
            "application/vnd.google.colaboratory.intrinsic+json": {
              "type": "string"
            }
          },
          "metadata": {},
          "execution_count": 54
        }
      ]
    },
    {
      "cell_type": "markdown",
      "source": [
        "COMPARISON OPERATORS != == > < >= <="
      ],
      "metadata": {
        "id": "Hj7_UQw7TI4A"
      }
    },
    {
      "cell_type": "code",
      "source": [
        "2.0 == 2 #True\n",
        "'2' == 2 #False\n"
      ],
      "metadata": {
        "id": "WqKiNm8STLcB"
      },
      "execution_count": null,
      "outputs": []
    },
    {
      "cell_type": "markdown",
      "source": [
        "LOGICAL OPERATORS and or not"
      ],
      "metadata": {
        "id": "EBjiiezPTmQe"
      }
    },
    {
      "cell_type": "code",
      "source": [
        "#and - both conditions should be True\n",
        "#or - atleast one condition is True\n",
        "#not - negates\n",
        "\n",
        "not(1==1) #1==1 is True, O/P IS FALSE"
      ],
      "metadata": {
        "colab": {
          "base_uri": "https://localhost:8080/"
        },
        "id": "QQAdxM29ToFX",
        "outputId": "4a675b31-b327-437f-abd4-cad25ca1b299"
      },
      "execution_count": null,
      "outputs": [
        {
          "output_type": "execute_result",
          "data": {
            "text/plain": [
              "False"
            ]
          },
          "metadata": {},
          "execution_count": 55
        }
      ]
    },
    {
      "cell_type": "markdown",
      "source": [
        "IF, ELIF, ELSE LOOPS"
      ],
      "metadata": {
        "id": "nQ2OrxVPViaO"
      }
    },
    {
      "cell_type": "code",
      "source": [
        "#example1\n",
        "hungry = \"dh\"\n",
        "\n",
        "if hungry == \"food\":\n",
        "  print(\"Feed me\")\n",
        "elif hungry == \"drink\":\n",
        "  print(\"I'm thirsty\")\n",
        "elif hungry == \"oats\":\n",
        "  print(\"Not tasty\")\n",
        "else:\n",
        "  print(\"Don't\")"
      ],
      "metadata": {
        "colab": {
          "base_uri": "https://localhost:8080/"
        },
        "id": "DfPz_yPrVkgj",
        "outputId": "5ebfd758-badf-4dc6-b06e-f47bc4da419d"
      },
      "execution_count": null,
      "outputs": [
        {
          "output_type": "stream",
          "name": "stdout",
          "text": [
            "Don't\n"
          ]
        }
      ]
    },
    {
      "cell_type": "markdown",
      "source": [
        "FOR LOOPS"
      ],
      "metadata": {
        "id": "zYl25g_GYIbm"
      }
    },
    {
      "cell_type": "code",
      "source": [
        "#Basic idea behind for loop:\n",
        "#range = [,,,,,]\n",
        "#SYNTAX\n",
        "#for <object> in <range> #Here <object> will correspond to every element in []\n",
        "\n",
        "mylist = [1,2,3,4,5]\n",
        "\n",
        "for i in mylist:\n",
        "  print(i) # 1 2 3 4 5\n",
        "  print(\"hey\") #hey hey hey hey hey"
      ],
      "metadata": {
        "colab": {
          "base_uri": "https://localhost:8080/"
        },
        "id": "qchnIq1AYJQZ",
        "outputId": "08210c10-7085-4a94-836d-7b7896e072cc"
      },
      "execution_count": null,
      "outputs": [
        {
          "output_type": "stream",
          "name": "stdout",
          "text": [
            "1\n",
            "2\n",
            "3\n",
            "4\n",
            "5\n"
          ]
        }
      ]
    },
    {
      "cell_type": "code",
      "source": [
        "#CHECK EVEN OR ODD\n",
        "mylist = [1,2,3,4,5]\n",
        "\n",
        "for num in mylist:\n",
        "  if num % 2 == 0:\n",
        "    print(\"Even\")\n",
        "  else:\n",
        "    print(\"Odd\")"
      ],
      "metadata": {
        "colab": {
          "base_uri": "https://localhost:8080/"
        },
        "id": "AxbNqmzvY_F7",
        "outputId": "56f59261-c84a-464f-b0ed-cca230c3d3c5"
      },
      "execution_count": null,
      "outputs": [
        {
          "output_type": "stream",
          "name": "stdout",
          "text": [
            "Odd\n",
            "Even\n",
            "Odd\n",
            "Even\n",
            "Odd\n"
          ]
        }
      ]
    },
    {
      "cell_type": "code",
      "source": [
        "#RUNNING TOTAL\n",
        "mylist = [1,2,3,4,5,6,7,8,9,10]\n",
        "list_sum = 0\n",
        "\n",
        "for i in mylist:\n",
        "  list_sum = list_sum + i\n",
        "\n",
        "print(list_sum)"
      ],
      "metadata": {
        "colab": {
          "base_uri": "https://localhost:8080/"
        },
        "id": "uu0zBr0dvCA2",
        "outputId": "2240660d-32df-48fc-8843-73380e0199b1"
      },
      "execution_count": null,
      "outputs": [
        {
          "output_type": "stream",
          "name": "stdout",
          "text": [
            "55\n"
          ]
        }
      ]
    },
    {
      "cell_type": "code",
      "source": [
        "#TUPLE IN LIST\n",
        "tuplist = [(1,2),(3,4),(5,6),(7,8)]\n",
        "\n",
        "for (a,b) in tuplist:\n",
        "  print(a)\n",
        "  print(b)"
      ],
      "metadata": {
        "colab": {
          "base_uri": "https://localhost:8080/"
        },
        "id": "ORTivkbJwNgq",
        "outputId": "0a52a259-8f8e-44a4-a83a-0318a22be820"
      },
      "execution_count": null,
      "outputs": [
        {
          "output_type": "stream",
          "name": "stdout",
          "text": [
            "1\n",
            "2\n",
            "3\n",
            "4\n",
            "5\n",
            "6\n",
            "7\n",
            "8\n"
          ]
        }
      ]
    },
    {
      "cell_type": "code",
      "source": [
        "#ITERATE THROUGH DICTIONARY\n",
        "d = {'a1':1, 'a2':2, 'a3':3}\n",
        "\n",
        "for item in d:\n",
        "  print (item) #here a1, a2, a3 is printed (keys)\n",
        "\n",
        "print(\"\")\n",
        "\n",
        "for i in d.items():  #items() is a function\n",
        "  print(i) #here the output is properly printed in (key,value) format\n",
        "\n",
        "print(\"\")\n",
        "\n",
        "for key,value in d:\n",
        "  print(value) #here the output clearly prints the value alone\n",
        "\n",
        "print(\"\")\n",
        "\n",
        "for i in d.values(): #values() is a function\n",
        "  print(i) #here the output prints only values\n",
        "\n",
        "print(\"\")\n",
        "\n",
        "for i in d.keys(): #keys() is a function\n",
        "  print(i)  #here the output prints only keys"
      ],
      "metadata": {
        "colab": {
          "base_uri": "https://localhost:8080/"
        },
        "id": "pPUDb1KAxr0M",
        "outputId": "eea701d9-762d-4c7f-84f6-00d2f2ca945f"
      },
      "execution_count": null,
      "outputs": [
        {
          "output_type": "stream",
          "name": "stdout",
          "text": [
            "a1\n",
            "a2\n",
            "a3\n",
            "\n",
            "('a1', 1)\n",
            "('a2', 2)\n",
            "('a3', 3)\n",
            "\n",
            "1\n",
            "2\n",
            "3\n",
            "\n",
            "1\n",
            "2\n",
            "3\n",
            "\n",
            "a1\n",
            "a2\n",
            "a3\n"
          ]
        }
      ]
    },
    {
      "cell_type": "code",
      "source": [
        "#RANGE(start, stop, step)\n",
        "\n",
        "for i in range(0,10,2): #0 to 9 iterated, step by 2\n",
        "  print(i) #0 2 4 6 8\n",
        "\n",
        "print(\"\")\n",
        "\n",
        "#CASTING AS LIST\n",
        "list(range(0,10,2))"
      ],
      "metadata": {
        "colab": {
          "base_uri": "https://localhost:8080/"
        },
        "id": "yuc22qGG5Z5K",
        "outputId": "a1760cf2-8cae-4c88-ae0d-4fc0a5c77e8a"
      },
      "execution_count": null,
      "outputs": [
        {
          "output_type": "stream",
          "name": "stdout",
          "text": [
            "0\n",
            "2\n",
            "4\n",
            "6\n",
            "8\n",
            "\n"
          ]
        },
        {
          "output_type": "execute_result",
          "data": {
            "text/plain": [
              "[0, 2, 4, 6, 8]"
            ]
          },
          "metadata": {},
          "execution_count": 35
        }
      ]
    },
    {
      "cell_type": "code",
      "source": [
        "#printing index and letter\n",
        "index_count = 0\n",
        "word = 'abcdef'\n",
        "\n",
        "for i in word:\n",
        "  print(\"At index {} the letter is {}\".format(index_count,i))\n",
        "  index_count += 1\n"
      ],
      "metadata": {
        "colab": {
          "base_uri": "https://localhost:8080/"
        },
        "id": "sPzQR4wv6eRb",
        "outputId": "01f46ae2-5968-47dc-cadd-b5d37b57c3dc"
      },
      "execution_count": null,
      "outputs": [
        {
          "output_type": "stream",
          "name": "stdout",
          "text": [
            "At index 0 the letter is a\n",
            "At index 1 the letter is b\n",
            "At index 2 the letter is c\n",
            "At index 3 the letter is d\n",
            "At index 4 the letter is e\n",
            "At index 5 the letter is f\n"
          ]
        }
      ]
    },
    {
      "cell_type": "code",
      "source": [
        "#replication of the above using enumerations\n",
        "\n",
        "index_count = 0\n",
        "word = 'abcdef'\n",
        "\n",
        "for i in word:\n",
        "  print(word[index_count]) #for variable word, we have index\n",
        "  index_count += 1\n",
        "\n",
        "\n",
        "#can also use enumerate() function - see under tuples heading"
      ],
      "metadata": {
        "colab": {
          "base_uri": "https://localhost:8080/"
        },
        "id": "57_t1i4U7spS",
        "outputId": "2c4af87d-2f43-453d-8dd8-2fc9278a9d50"
      },
      "execution_count": null,
      "outputs": [
        {
          "output_type": "stream",
          "name": "stdout",
          "text": [
            "a\n",
            "b\n",
            "c\n",
            "d\n",
            "e\n",
            "f\n"
          ]
        }
      ]
    },
    {
      "cell_type": "markdown",
      "source": [
        "WHILE LOOP"
      ],
      "metadata": {
        "id": "gPVcRMUH11Yu"
      }
    },
    {
      "cell_type": "code",
      "source": [
        "x=2\n",
        "\n",
        "while x < 5:\n",
        "  print(f\"The current value of x is {x}\")\n",
        "  x += 1 #there should always be a condition here, else infinite loop is formed\n",
        "else:\n",
        "  print(f\"{x} is not less than 5\")"
      ],
      "metadata": {
        "colab": {
          "base_uri": "https://localhost:8080/"
        },
        "id": "J7kqa45X129u",
        "outputId": "a74a39d7-4f69-4239-dc39-6e2a5e91687b"
      },
      "execution_count": null,
      "outputs": [
        {
          "output_type": "stream",
          "name": "stdout",
          "text": [
            "The current value of x is 2\n",
            "The current value of x is 3\n",
            "The current value of x is 4\n",
            "5 is not less than 5\n"
          ]
        }
      ]
    },
    {
      "cell_type": "markdown",
      "source": [
        "BREAK, CONTINUE, PASS"
      ],
      "metadata": {
        "id": "8V0dEwCP28Yt"
      }
    },
    {
      "cell_type": "code",
      "source": [
        "#PASS\n",
        "y = [1,2,3]\n",
        "\n",
        "for i in y:\n",
        "  #if there is nothing written here, then there will be an error\n",
        "  #pass overrides the error\n",
        "  pass"
      ],
      "metadata": {
        "id": "5x-9CVb22-H3"
      },
      "execution_count": null,
      "outputs": []
    },
    {
      "cell_type": "code",
      "source": [
        "#CONTINUE\n",
        "mystring = \"nidhi\"\n",
        "\n",
        "for letter in mystring:\n",
        "  if letter == 'd':\n",
        "    continue #continue goes to the top of the closest enclosing loop\n",
        "    #so in this case, d is skipped from executing and iterates the next letter\n",
        "  print(letter)\n"
      ],
      "metadata": {
        "colab": {
          "base_uri": "https://localhost:8080/"
        },
        "id": "s9RaASAv3o5Z",
        "outputId": "fcf70011-8ee5-4790-d936-30e82e653664"
      },
      "execution_count": null,
      "outputs": [
        {
          "output_type": "stream",
          "name": "stdout",
          "text": [
            "n\n",
            "i\n",
            "h\n",
            "i\n"
          ]
        }
      ]
    },
    {
      "cell_type": "code",
      "source": [
        "#BREAK\n",
        "mystring = \"nidhi\"\n",
        "\n",
        "for letter in mystring:\n",
        "  if letter == 'd':\n",
        "    break #in this case, when there is an occurance of 'd', it exits the loop\n",
        "    #no more iteration, so remaining letters wont be iterated\n",
        "  print(letter)"
      ],
      "metadata": {
        "colab": {
          "base_uri": "https://localhost:8080/"
        },
        "id": "bJ5sMCDl4SJg",
        "outputId": "5e2a339b-a76e-4987-89c2-542705d8ae3e"
      },
      "execution_count": null,
      "outputs": [
        {
          "output_type": "stream",
          "name": "stdout",
          "text": [
            "n\n",
            "i\n"
          ]
        }
      ]
    },
    {
      "cell_type": "markdown",
      "source": [
        "EASY FUNCTIONS (ENUMERATE)\n"
      ],
      "metadata": {
        "id": "w7-VtyNjBY8W"
      }
    },
    {
      "cell_type": "code",
      "source": [
        "#enumerate function (read this after studying looping)\n",
        "\n",
        "word = 'abcdef'\n",
        "\n",
        "#enumerate returns the index for the object with value\n",
        "for item in enumerate(word):\n",
        "  print(item)\n",
        "#can also change item to index, letter AND print them separately"
      ],
      "metadata": {
        "colab": {
          "base_uri": "https://localhost:8080/"
        },
        "id": "tg3opQg6Bhzz",
        "outputId": "8c2b8c81-814c-4796-b688-6dc7ad673912"
      },
      "execution_count": null,
      "outputs": [
        {
          "output_type": "stream",
          "name": "stdout",
          "text": [
            "(0, 'a')\n",
            "(1, 'b')\n",
            "(2, 'c')\n",
            "(3, 'd')\n",
            "(4, 'e')\n",
            "(5, 'f')\n"
          ]
        }
      ]
    },
    {
      "cell_type": "code",
      "source": [
        "#ZIP FUNCTION\n",
        "list1 = [1,2,3]\n",
        "list2 = ['a','b','c']\n",
        "\n",
        "zip(list1,list2) #<zip at 0x7d1e6405cec0> this is the location\n",
        "list(zip(list1,list2)) #o/p: [(1, 'a'), (2, 'b'), (3, 'c')]\n",
        "\n",
        "print(\"\")\n",
        "\n",
        "for item in zip(list1,list2):\n",
        "  print(item) #output is a list of tuples"
      ],
      "metadata": {
        "id": "cMAhVPUTBXRk",
        "colab": {
          "base_uri": "https://localhost:8080/"
        },
        "outputId": "203b4d2b-d5dd-42a9-a287-88d97a921eb5"
      },
      "execution_count": 1,
      "outputs": [
        {
          "output_type": "stream",
          "name": "stdout",
          "text": [
            "\n",
            "(1, 'a')\n",
            "(2, 'b')\n",
            "(3, 'c')\n"
          ]
        }
      ]
    },
    {
      "cell_type": "code",
      "source": [
        "#MIN, MAX\n",
        "\n",
        "list1 = [1,4,77,103]\n",
        "print(min(list1))\n",
        "print(max(list1))\n",
        "\n"
      ],
      "metadata": {
        "colab": {
          "base_uri": "https://localhost:8080/"
        },
        "id": "7vuvAySh_V-H",
        "outputId": "dea68a9e-04aa-47a8-f291-23dc763eeae6"
      },
      "execution_count": null,
      "outputs": [
        {
          "output_type": "stream",
          "name": "stdout",
          "text": [
            "1\n",
            "103\n",
            "[4, 1, 103, 77]\n"
          ]
        },
        {
          "output_type": "execute_result",
          "data": {
            "text/plain": [
              "95"
            ]
          },
          "metadata": {},
          "execution_count": 72
        }
      ]
    },
    {
      "cell_type": "code",
      "source": [
        "#RANDOM, SHUFFLE\n",
        "#from lib import func\n",
        "\n",
        "from random import shuffle\n",
        "shuffle(list1)\n",
        "print(list1)\n",
        "\n",
        "from random import randint\n",
        "randint(1,100) #gives a random integer from range everytime"
      ],
      "metadata": {
        "id": "s4waFYqNBjsZ",
        "colab": {
          "base_uri": "https://localhost:8080/"
        },
        "outputId": "c494a9ea-1e2c-4a86-a2de-09344e8b7d2c"
      },
      "execution_count": 2,
      "outputs": [
        {
          "output_type": "stream",
          "name": "stdout",
          "text": [
            "[3, 2, 1]\n"
          ]
        },
        {
          "output_type": "execute_result",
          "data": {
            "text/plain": [
              "63"
            ]
          },
          "metadata": {},
          "execution_count": 2
        }
      ]
    },
    {
      "cell_type": "code",
      "source": [
        "#ACCEPT USER INPUT\n",
        "no = input(\"Enter a number:\")\n",
        "print(\"The number is:\",no)\n",
        "type(no) #string\n",
        "\n",
        "int(no)\n",
        "\n",
        "#hence we can write it as no = int(input(\"enter\"))"
      ],
      "metadata": {
        "colab": {
          "base_uri": "https://localhost:8080/"
        },
        "id": "rtQzUs8HBGSY",
        "outputId": "d015622f-2f03-4e30-8d01-03709fe5e8cd"
      },
      "execution_count": null,
      "outputs": [
        {
          "output_type": "stream",
          "name": "stdout",
          "text": [
            "Enter a number:2\n",
            "The number is: 2\n"
          ]
        },
        {
          "output_type": "execute_result",
          "data": {
            "text/plain": [
              "2"
            ]
          },
          "metadata": {},
          "execution_count": 77
        }
      ]
    },
    {
      "cell_type": "markdown",
      "source": [
        "LIST COMPREHENSION"
      ],
      "metadata": {
        "id": "HuwnIeyGmpVk"
      }
    },
    {
      "cell_type": "code",
      "source": [
        "#CONVENTIONAL WAY OF APPENDING CHARACTERS TO STRING\n",
        "mystring = 'hello'\n",
        "mylist = []\n",
        "\n",
        "for letter in mystring:\n",
        "  mylist.append(letter)\n",
        "\n",
        "mylist"
      ],
      "metadata": {
        "colab": {
          "base_uri": "https://localhost:8080/"
        },
        "id": "DeN6Nqyqmq5G",
        "outputId": "6804f625-e371-48c2-ae73-e7db4e95769d"
      },
      "execution_count": null,
      "outputs": [
        {
          "output_type": "execute_result",
          "data": {
            "text/plain": [
              "['h', 'e', 'l', 'l', 'o']"
            ]
          },
          "metadata": {},
          "execution_count": 3
        }
      ]
    },
    {
      "cell_type": "code",
      "source": [
        "#INSTEAD, FOLLOW THIS\n",
        "mystring = 'hello'\n",
        "mylist = [letter for letter in mystring] #SYNTAX: <result_element> for <element> in <variable>\n",
        "mylist"
      ],
      "metadata": {
        "colab": {
          "base_uri": "https://localhost:8080/"
        },
        "id": "m3rGLGkJm-0D",
        "outputId": "803c99d5-757a-4854-f792-c524cf99a8d8"
      },
      "execution_count": null,
      "outputs": [
        {
          "output_type": "execute_result",
          "data": {
            "text/plain": [
              "['h', 'e', 'l', 'l', 'o']"
            ]
          },
          "metadata": {},
          "execution_count": 5
        }
      ]
    },
    {
      "cell_type": "code",
      "source": [
        "#TO USE A CONDITION (IF)\n",
        "mylist = [i**2 for i in range(0,11) if i%2==0]\n",
        "mylist"
      ],
      "metadata": {
        "colab": {
          "base_uri": "https://localhost:8080/"
        },
        "id": "eTgYROYknZVw",
        "outputId": "c19b0007-5ac3-45c6-d2aa-2ef96422ddfc"
      },
      "execution_count": null,
      "outputs": [
        {
          "output_type": "execute_result",
          "data": {
            "text/plain": [
              "[0, 4, 16, 36, 64, 100]"
            ]
          },
          "metadata": {},
          "execution_count": 7
        }
      ]
    },
    {
      "cell_type": "code",
      "source": [
        "#ANOTHER EXAMPLE\n",
        "celcius = [0,10,25,40,80,110]\n",
        "\n",
        "fahrenheit = [(9/5)*i + 32 for i in celcius]\n",
        "fahrenheit"
      ],
      "metadata": {
        "colab": {
          "base_uri": "https://localhost:8080/"
        },
        "id": "E-JDgDF2oSyU",
        "outputId": "9c105555-a064-4fbb-c687-3e7c2fdf973a"
      },
      "execution_count": null,
      "outputs": [
        {
          "output_type": "execute_result",
          "data": {
            "text/plain": [
              "[32.0, 50.0, 77.0, 104.0, 176.0, 230.0]"
            ]
          },
          "metadata": {},
          "execution_count": 8
        }
      ]
    },
    {
      "cell_type": "code",
      "source": [
        "#USING IF ELSE\n",
        "results = [x if x%2==0 else 'ODD' for x in range(0,11)]\n",
        "results"
      ],
      "metadata": {
        "colab": {
          "base_uri": "https://localhost:8080/"
        },
        "id": "4xMt7AawpJXP",
        "outputId": "31eec58d-5c3a-4ef3-c2c7-1e540f4128a4"
      },
      "execution_count": null,
      "outputs": [
        {
          "output_type": "execute_result",
          "data": {
            "text/plain": [
              "[0, 'ODD', 2, 'ODD', 4, 'ODD', 6, 'ODD', 8, 'ODD', 10]"
            ]
          },
          "metadata": {},
          "execution_count": 10
        }
      ]
    },
    {
      "cell_type": "code",
      "source": [
        "#NESTED LOOPS\n",
        "mylist = []\n",
        "for x in [2,4,6]:\n",
        "  for y in [10,100,100]:\n",
        "    mylist.append(x*y)\n",
        "\n",
        "mylist"
      ],
      "metadata": {
        "colab": {
          "base_uri": "https://localhost:8080/"
        },
        "id": "Du7Eybzip4dT",
        "outputId": "a8a919d5-90a0-471d-941d-94d9fe1bc9e0"
      },
      "execution_count": null,
      "outputs": [
        {
          "output_type": "execute_result",
          "data": {
            "text/plain": [
              "[20, 200, 200, 40, 400, 400, 60, 600, 600]"
            ]
          },
          "metadata": {},
          "execution_count": 14
        }
      ]
    },
    {
      "cell_type": "code",
      "source": [
        "#LIST COMPREHENSION\n",
        "mylist = [x*y for x in [2,4,6] for y in [10,100,1000]]\n",
        "mylist"
      ],
      "metadata": {
        "colab": {
          "base_uri": "https://localhost:8080/"
        },
        "id": "lHx6JiOEqOi7",
        "outputId": "3324ad1d-a595-497d-c7f8-5fb159eb168d"
      },
      "execution_count": null,
      "outputs": [
        {
          "output_type": "execute_result",
          "data": {
            "text/plain": [
              "[20, 200, 2000, 40, 400, 4000, 60, 600, 6000]"
            ]
          },
          "metadata": {},
          "execution_count": 15
        }
      ]
    },
    {
      "cell_type": "markdown",
      "source": [
        "LOOPS AND LIST COMPREHENSION - TESTING ABILITY QUESTS"
      ],
      "metadata": {
        "id": "OH2hVpwe_EkU"
      }
    },
    {
      "cell_type": "code",
      "source": [
        "#PRINT WORDS THAT START WITH S\n",
        "st = 'So Print only the words that start with s in this sentence'\n",
        "st.split()\n",
        "\n",
        "for i in st.split():\n",
        "  if i[0]=='s' or i[0]=='S':\n",
        "    print(i)"
      ],
      "metadata": {
        "colab": {
          "base_uri": "https://localhost:8080/"
        },
        "id": "XlXjuAa2r_1A",
        "outputId": "b33a7cfd-a817-4eb8-fbff-440661d9d61b"
      },
      "execution_count": null,
      "outputs": [
        {
          "output_type": "stream",
          "name": "stdout",
          "text": [
            "So\n",
            "start\n",
            "s\n",
            "sentence\n"
          ]
        }
      ]
    },
    {
      "cell_type": "code",
      "source": [
        "#NUMBERS IN RANGE 0-10 WHICH ARE EVEN\n",
        "for i in range(0,11):\n",
        "  if i%2 == 0:\n",
        "    print(i)"
      ],
      "metadata": {
        "colab": {
          "base_uri": "https://localhost:8080/"
        },
        "id": "d1Wfmi0etFnY",
        "outputId": "e2cf5c5a-b1ff-4727-ea53-a4f5b129587d"
      },
      "execution_count": null,
      "outputs": [
        {
          "output_type": "stream",
          "name": "stdout",
          "text": [
            "0\n",
            "2\n",
            "4\n",
            "6\n",
            "8\n",
            "10\n"
          ]
        }
      ]
    },
    {
      "cell_type": "code",
      "source": [
        "#LIST COMPREHENSION FOR NUMBERS DIVISIBLE BY 3 IN RANGE 1 TO 50\n",
        "mylist = [x for x in range(0,51) if x%3==0]\n",
        "mylist"
      ],
      "metadata": {
        "colab": {
          "base_uri": "https://localhost:8080/"
        },
        "id": "8hpKfYXJ--Bs",
        "outputId": "3de0ee5f-c195-4de7-f736-4b6eacb99d79"
      },
      "execution_count": null,
      "outputs": [
        {
          "output_type": "execute_result",
          "data": {
            "text/plain": [
              "[0, 3, 6, 9, 12, 15, 18, 21, 24, 27, 30, 33, 36, 39, 42, 45, 48]"
            ]
          },
          "metadata": {},
          "execution_count": 24
        }
      ]
    },
    {
      "cell_type": "code",
      "source": [
        "#FIND LENGTH OF WORD AND PRINT IF EVEN\n",
        "st = 'Print every word in this sentence that has an even number of letters'\n",
        "st.split()\n",
        "\n",
        "for letter in st.split():\n",
        "  letter.split(' ')\n",
        "\n",
        "  if len(letter)%2==0:\n",
        "    print(letter+\" is even!\")"
      ],
      "metadata": {
        "colab": {
          "base_uri": "https://localhost:8080/"
        },
        "id": "U2obZTHLACyT",
        "outputId": "dcb83058-c409-4279-b0d9-ea8d4186472c"
      },
      "execution_count": null,
      "outputs": [
        {
          "output_type": "stream",
          "name": "stdout",
          "text": [
            "word is even!\n",
            "in is even!\n",
            "this is even!\n",
            "sentence is even!\n",
            "that is even!\n",
            "an is even!\n",
            "even is even!\n",
            "number is even!\n",
            "of is even!\n"
          ]
        }
      ]
    },
    {
      "cell_type": "code",
      "source": [
        "#Divisible by 3 means print Fizz, by 5 means print Buzz, by both print FizzBuzz\n",
        "\n",
        "for i in range(1,101):\n",
        "\n",
        "  if i%3==0 and i%5==0:\n",
        "    print(\"FizzBuzz\")\n",
        "\n",
        "  elif i%3==0:\n",
        "    print(\"Fizz\")\n",
        "\n",
        "  elif i%5==0:\n",
        "    print(\"Buzz\")\n",
        "\n",
        "  else:\n",
        "    print(i)\n"
      ],
      "metadata": {
        "colab": {
          "base_uri": "https://localhost:8080/"
        },
        "id": "C9UfP-8iBGgp",
        "outputId": "30af640c-577a-4158-bdfa-f8775b2c4593"
      },
      "execution_count": null,
      "outputs": [
        {
          "output_type": "stream",
          "name": "stdout",
          "text": [
            "1\n",
            "2\n",
            "Fizz\n",
            "4\n",
            "Buzz\n",
            "Fizz\n",
            "7\n",
            "8\n",
            "Fizz\n",
            "Buzz\n",
            "11\n",
            "Fizz\n",
            "13\n",
            "14\n",
            "FizzBuzz\n",
            "16\n",
            "17\n",
            "Fizz\n",
            "19\n",
            "Buzz\n",
            "Fizz\n",
            "22\n",
            "23\n",
            "Fizz\n",
            "Buzz\n",
            "26\n",
            "Fizz\n",
            "28\n",
            "29\n",
            "FizzBuzz\n",
            "31\n",
            "32\n",
            "Fizz\n",
            "34\n",
            "Buzz\n",
            "Fizz\n",
            "37\n",
            "38\n",
            "Fizz\n",
            "Buzz\n",
            "41\n",
            "Fizz\n",
            "43\n",
            "44\n",
            "FizzBuzz\n",
            "46\n",
            "47\n",
            "Fizz\n",
            "49\n",
            "Buzz\n",
            "Fizz\n",
            "52\n",
            "53\n",
            "Fizz\n",
            "Buzz\n",
            "56\n",
            "Fizz\n",
            "58\n",
            "59\n",
            "FizzBuzz\n",
            "61\n",
            "62\n",
            "Fizz\n",
            "64\n",
            "Buzz\n",
            "Fizz\n",
            "67\n",
            "68\n",
            "Fizz\n",
            "Buzz\n",
            "71\n",
            "Fizz\n",
            "73\n",
            "74\n",
            "FizzBuzz\n",
            "76\n",
            "77\n",
            "Fizz\n",
            "79\n",
            "Buzz\n",
            "Fizz\n",
            "82\n",
            "83\n",
            "Fizz\n",
            "Buzz\n",
            "86\n",
            "Fizz\n",
            "88\n",
            "89\n",
            "FizzBuzz\n",
            "91\n",
            "92\n",
            "Fizz\n",
            "94\n",
            "Buzz\n",
            "Fizz\n",
            "97\n",
            "98\n",
            "Fizz\n",
            "Buzz\n"
          ]
        }
      ]
    },
    {
      "cell_type": "markdown",
      "source": [
        "METHODS AND FUNCTIONS"
      ],
      "metadata": {
        "id": "sCuqw0yUefr8"
      }
    },
    {
      "cell_type": "code",
      "source": [
        "#KNOWN METHODS\n",
        "#.append() - add element\n",
        "#.pop() - remove last element\n",
        "#intitalize a list and click tab, you'll find suggested methods. Enclose help(mylist.insert()) - this gives you an idea of what to include\n",
        "\n",
        "#METHODS ARE INBUILT AND ALREADY GIVEN\n",
        "#FUNCTIONS ARE DEFINED BY US\n"
      ],
      "metadata": {
        "id": "T9qjPKIfeguE"
      },
      "execution_count": null,
      "outputs": []
    },
    {
      "cell_type": "code",
      "source": [
        "\"\"\"\n",
        "FUNCTIONS SYNTAX:\n",
        "\n",
        "def name_of_function(parameter):\n",
        "<docstring> that explains the function\n",
        "\n",
        "To call:\n",
        "name_of_function(value_for_the_parameter)\n",
        "\"\"\"\n",
        "#PRINT VS RETURN\n",
        "#return a+b  ----> here, return helps to save the value to a variable instead of just printing it\n",
        "#print(a+b)\n",
        "\n",
        "#example\n",
        "def add(a,b):\n",
        "  return a+b\n",
        "\n",
        "result = add(2,3)\n",
        "print(result) #5"
      ],
      "metadata": {
        "colab": {
          "base_uri": "https://localhost:8080/"
        },
        "id": "q-hhuwY9fuY5",
        "outputId": "b6c56280-046b-4c49-d967-fbcc33173950"
      },
      "execution_count": null,
      "outputs": [
        {
          "output_type": "execute_result",
          "data": {
            "text/plain": [
              "5"
            ]
          },
          "metadata": {},
          "execution_count": 1
        }
      ]
    },
    {
      "cell_type": "code",
      "source": [
        "#sample\n",
        "def call_name(name):\n",
        "  print(f'hello {name}')\n",
        "\n",
        "call_name('nidhi') #if 'nidhi' argument is not passed, then error"
      ],
      "metadata": {
        "colab": {
          "base_uri": "https://localhost:8080/"
        },
        "id": "0-lXv_Z8iPOm",
        "outputId": "ad65a33d-2bed-4023-9ca5-4c4bae87cf5d"
      },
      "execution_count": null,
      "outputs": [
        {
          "output_type": "stream",
          "name": "stdout",
          "text": [
            "hello nidhi\n"
          ]
        }
      ]
    },
    {
      "cell_type": "code",
      "source": [
        "# PRINT VS RETURN\n",
        "def print_result(a,b):\n",
        "  print(a+b)\n",
        "\n",
        "def return_result(x,y):\n",
        "  return x+y"
      ],
      "metadata": {
        "id": "9LfOZ_kFjWYS"
      },
      "execution_count": null,
      "outputs": []
    },
    {
      "cell_type": "code",
      "source": [
        "print_result(10,20) #pass values\n",
        "result = print_result(10,20) #passing function call with values into a variable"
      ],
      "metadata": {
        "colab": {
          "base_uri": "https://localhost:8080/"
        },
        "id": "iU6hNeL6j5LT",
        "outputId": "00f7fc8b-4227-4966-f394-1fe47159ef64"
      },
      "execution_count": null,
      "outputs": [
        {
          "output_type": "stream",
          "name": "stdout",
          "text": [
            "30\n",
            "30\n"
          ]
        }
      ]
    },
    {
      "cell_type": "code",
      "source": [
        "result\n",
        "type(result) #type of result is NoneType - because print just prints, value is not stored as a variable"
      ],
      "metadata": {
        "colab": {
          "base_uri": "https://localhost:8080/"
        },
        "id": "ih3Emn_WkVgU",
        "outputId": "b2df09f4-faaf-4e6f-d63b-6a27c15d5243"
      },
      "execution_count": null,
      "outputs": [
        {
          "output_type": "execute_result",
          "data": {
            "text/plain": [
              "NoneType"
            ]
          },
          "metadata": {},
          "execution_count": 15
        }
      ]
    },
    {
      "cell_type": "code",
      "source": [
        "return_result(10,20) #pass values"
      ],
      "metadata": {
        "colab": {
          "base_uri": "https://localhost:8080/"
        },
        "id": "sUJGl1Prj5P-",
        "outputId": "f5736ff7-16f3-4348-8b32-76130e229c1d"
      },
      "execution_count": null,
      "outputs": [
        {
          "output_type": "execute_result",
          "data": {
            "text/plain": [
              "30"
            ]
          },
          "metadata": {},
          "execution_count": 17
        }
      ]
    },
    {
      "cell_type": "code",
      "source": [
        "result = return_result #passing function call with values into a variable\n",
        "result\n",
        "type(result) #type of result is function - because return doesnt just print, here value is  stored as a variable"
      ],
      "metadata": {
        "colab": {
          "base_uri": "https://localhost:8080/"
        },
        "id": "60gX4VV0kl3s",
        "outputId": "ed0f50d0-d8ed-4478-c7d4-e2aba2cc02e8"
      },
      "execution_count": null,
      "outputs": [
        {
          "output_type": "execute_result",
          "data": {
            "text/plain": [
              "function"
            ]
          },
          "metadata": {},
          "execution_count": 19
        }
      ]
    },
    {
      "cell_type": "code",
      "source": [
        "#AVOIDING STRING VS INT MISTAKES\n",
        "\n",
        "def sum(a,b):\n",
        "  return a+b\n",
        "\n",
        "sum(10,20) #30 cause + is arithmetic\n",
        "sum('10','20') #1020 cause + is concatenation for strings passed as argument"
      ],
      "metadata": {
        "colab": {
          "base_uri": "https://localhost:8080/",
          "height": 35
        },
        "id": "dh4PeNmYlsE8",
        "outputId": "7530537f-ddd7-41fa-b3ef-43df8593768b"
      },
      "execution_count": null,
      "outputs": [
        {
          "output_type": "execute_result",
          "data": {
            "text/plain": [
              "'1020'"
            ],
            "application/vnd.google.colaboratory.intrinsic+json": {
              "type": "string"
            }
          },
          "metadata": {},
          "execution_count": 20
        }
      ]
    },
    {
      "cell_type": "code",
      "source": [
        "#PASS KEYWORD USED TO NOT TO ANYTHING AND SKIP\n",
        "\n",
        "def checklist(num_list):\n",
        "\n",
        "  for i in num_list:\n",
        "    if i%2==0:\n",
        "      return True #there is a return statement here\n",
        "    else:\n",
        "      pass\n",
        "\n",
        "  return false \"\"\"we are putting the return outside the loop and NOT after the else condition because RETURN will break the loop\n",
        "  and in this case, it will only check the first number in the list and return the value.\n",
        "  If we use return outside the even_check loop, then any condition that is not an even will be passed on to get a return value \"false\"\n",
        "\"\"\"\n",
        "checklist([1,3])"
      ],
      "metadata": {
        "id": "9tGoHvRZobf2"
      },
      "execution_count": null,
      "outputs": []
    },
    {
      "cell_type": "code",
      "source": [
        "#EMPLOYEE CHECK - COMPARING WHO WORKED MORE HOURS\n",
        "#TUPLE UNPACKING\n",
        "\n",
        "work_hours = [('dora',200),('tiger',3390),('tyla',880)]\n",
        "\n",
        "def employee_check():\n",
        "  current_max = 0\n",
        "  employee_of_month = ' '\n",
        "\n",
        "  for employee, hours in work_hours:\n",
        "    if hours > current_max:\n",
        "      current_max = hours\n",
        "      employee_of_month = employee\n",
        "    else:\n",
        "      pass\n",
        "\n",
        "  return(employee_of_month,current_max)\n",
        "\n",
        "employee_check()\n"
      ],
      "metadata": {
        "colab": {
          "base_uri": "https://localhost:8080/"
        },
        "id": "ZRw7ksiL9F42",
        "outputId": "3bd97cc0-ca7d-42a5-813b-93f2f39dffe3"
      },
      "execution_count": null,
      "outputs": [
        {
          "output_type": "execute_result",
          "data": {
            "text/plain": [
              "('tiger', 3390)"
            ]
          },
          "metadata": {},
          "execution_count": 8
        }
      ]
    },
    {
      "cell_type": "code",
      "source": [
        "def myfunc():\n",
        "    value = bool(input(\"Enter a boolean value: \"))\n",
        "    if value == 'True':\n",
        "        return 'Hello'\n",
        "    else:\n",
        "        return 'Goodbye'\n",
        "\n",
        "myfunc()"
      ],
      "metadata": {
        "colab": {
          "base_uri": "https://localhost:8080/",
          "height": 53
        },
        "id": "PrpDa2aekyu-",
        "outputId": "ddc96b59-873b-43c9-d704-c378233ed56f"
      },
      "execution_count": null,
      "outputs": [
        {
          "name": "stdout",
          "output_type": "stream",
          "text": [
            "Enter a boolean value: True\n"
          ]
        },
        {
          "output_type": "execute_result",
          "data": {
            "text/plain": [
              "'Goodbye'"
            ],
            "application/vnd.google.colaboratory.intrinsic+json": {
              "type": "string"
            }
          },
          "metadata": {},
          "execution_count": 3
        }
      ]
    },
    {
      "cell_type": "markdown",
      "source": [
        "*ARGS, * *KWARGS"
      ],
      "metadata": {
        "id": "e02kKsxgj5nd"
      }
    },
    {
      "cell_type": "code",
      "source": [
        "#*args returns a tuple\n",
        "def myfunc(*args):\n",
        "  return sum(args) * 2\n",
        "\n",
        "myfunc(2,3)\n",
        "myfunc(1,2,3,4,5,6,7)\n",
        "#*args is used to denote that any no of arguments can be passed there (basically a tuple of arguments is passed)"
      ],
      "metadata": {
        "id": "fOVYvTerj5HL",
        "colab": {
          "base_uri": "https://localhost:8080/"
        },
        "outputId": "2fe68d97-33e9-4807-c413-f14ab862b220"
      },
      "execution_count": 3,
      "outputs": [
        {
          "output_type": "execute_result",
          "data": {
            "text/plain": [
              "56"
            ]
          },
          "metadata": {},
          "execution_count": 3
        }
      ]
    },
    {
      "cell_type": "code",
      "source": [
        "#**kwargs returns a dictionary\n",
        "def myfunc(**kwargs):\n",
        "  print(kwargs)\n",
        "  if 'fruit' in kwargs:\n",
        "    print(\"The fruit is {}\".format(kwargs['fruit']))\n",
        "  else:\n",
        "    print('No fruits here')\n",
        "\n",
        "myfunc(fruit='apple',veggie='lettuce')"
      ],
      "metadata": {
        "colab": {
          "base_uri": "https://localhost:8080/"
        },
        "id": "mAuk1kxTkx1H",
        "outputId": "bc3e0f38-89f7-41bf-951d-92bac42bd78a"
      },
      "execution_count": null,
      "outputs": [
        {
          "output_type": "stream",
          "name": "stdout",
          "text": [
            "{'fruit': 'apple', 'veggie': 'lettuce'}\n",
            "The fruit is apple\n"
          ]
        }
      ]
    },
    {
      "cell_type": "code",
      "source": [
        "#Combining\n",
        "def myfunc(*args,**kwargs):\n",
        "  print(args)\n",
        "  print(kwargs)\n",
        "  print(\"I would like {} {}\".format(args[0],kwargs['fruit']))\n",
        "\n",
        "myfunc(10,20,30,veggie='lettuce',fruit='oranges')"
      ],
      "metadata": {
        "colab": {
          "base_uri": "https://localhost:8080/"
        },
        "id": "yUabtnbrl-0a",
        "outputId": "726ea96a-8d64-4935-e6c5-e54adaae0892"
      },
      "execution_count": null,
      "outputs": [
        {
          "output_type": "stream",
          "name": "stdout",
          "text": [
            "(10, 20, 30)\n",
            "{'veggie': 'lettuce', 'fruit': 'oranges'}\n",
            "I would like 10 oranges\n"
          ]
        }
      ]
    },
    {
      "cell_type": "code",
      "source": [
        "def myfunc(input_string):\n",
        "    result = \"\"\n",
        "    for index, letter in enumerate(input_string):\n",
        "        if index % 2 == 0:\n",
        "            result += letter.upper()\n",
        "        else:\n",
        "            result += letter.lower()\n",
        "    return result\n",
        "\n",
        "myfunc('shreenidhi')"
      ],
      "metadata": {
        "colab": {
          "base_uri": "https://localhost:8080/",
          "height": 35
        },
        "id": "U11ph_siqEpE",
        "outputId": "a9b6aa1e-6b89-4b8b-e7b5-27bba2c95965"
      },
      "execution_count": null,
      "outputs": [
        {
          "output_type": "execute_result",
          "data": {
            "text/plain": [
              "'ShReEnIdHi'"
            ],
            "application/vnd.google.colaboratory.intrinsic+json": {
              "type": "string"
            }
          },
          "metadata": {},
          "execution_count": 34
        }
      ]
    },
    {
      "cell_type": "markdown",
      "source": [
        "MAP FUNCTION"
      ],
      "metadata": {
        "id": "5o5W28vjbvGo"
      }
    },
    {
      "cell_type": "code",
      "source": [
        "names = ['Ally','Sally','Eve']\n",
        "\n",
        "def namelist(i):\n",
        "  if len(i)%2==0:\n",
        "    return 'EVEN'\n",
        "  else:\n",
        "    return mystring[0]\n",
        "\n",
        "#transform this map function to a list: Just giving map(namelist,names) will only point to the location, not output\n",
        "list(map(namelist,names)) #SYNTAX: map(functionname,input) #() for function needn't be included here"
      ],
      "metadata": {
        "colab": {
          "base_uri": "https://localhost:8080/"
        },
        "id": "yWKD_vkUbw3J",
        "outputId": "b223a002-a1a5-4865-8e6d-ae1af4bcaf76"
      },
      "execution_count": 4,
      "outputs": [
        {
          "output_type": "execute_result",
          "data": {
            "text/plain": [
              "['EVEN', 'S', 'E']"
            ]
          },
          "metadata": {},
          "execution_count": 4
        }
      ]
    },
    {
      "cell_type": "code",
      "source": [
        "for item in map(namelist,names):\n",
        "  print(item)"
      ],
      "metadata": {
        "colab": {
          "base_uri": "https://localhost:8080/"
        },
        "id": "Al37CxmmcrwU",
        "outputId": "a1f57f12-3b5c-43cb-b852-db5c50d94d47"
      },
      "execution_count": null,
      "outputs": [
        {
          "output_type": "stream",
          "name": "stdout",
          "text": [
            "EVEN\n",
            "S\n",
            "E\n"
          ]
        }
      ]
    },
    {
      "cell_type": "markdown",
      "source": [
        "FILTER FUNCTION"
      ],
      "metadata": {
        "id": "ByW8dV5kdBSj"
      }
    },
    {
      "cell_type": "code",
      "source": [
        "nos = [1,2,3,4,5,6,7]\n",
        "\n",
        "def check_even(i):\n",
        "    return i%2==0\n",
        "\n",
        "\n",
        "#filters based on condition. Isn't applied to all numbers in input. Map applies to all nos in input.\n",
        "list(filter(check_even,nos))"
      ],
      "metadata": {
        "colab": {
          "base_uri": "https://localhost:8080/"
        },
        "id": "6u75lN5JdCwR",
        "outputId": "43111034-6700-4e6b-d076-9bba0f93a047"
      },
      "execution_count": null,
      "outputs": [
        {
          "output_type": "execute_result",
          "data": {
            "text/plain": [
              "[2, 4, 6]"
            ]
          },
          "metadata": {},
          "execution_count": 11
        }
      ]
    },
    {
      "cell_type": "markdown",
      "source": [
        "LAMBDA FUNCTION"
      ],
      "metadata": {
        "id": "ArFy8-0mfRPq"
      }
    },
    {
      "cell_type": "code",
      "source": [
        "nos = [1,2,3,4,5,6,7]\n",
        "\n",
        "# CONSIDER A FUNC THAT GIVES THE SQUARE\n",
        "def square(num):\n",
        "  return num**2\n",
        "\n",
        "square(2) #4\n",
        "\n",
        "#IN LAMBDA NOTATION, THIS IS WRITTEN AS\n",
        "square = lambda num: num**2\n",
        "\n",
        "square(4) #16"
      ],
      "metadata": {
        "id": "0nBT9czifS0H"
      },
      "execution_count": null,
      "outputs": []
    },
    {
      "cell_type": "code",
      "source": [
        "#ALSO WRITTEN AS\n",
        "list(map(lambda num:num**2,nos))"
      ],
      "metadata": {
        "colab": {
          "base_uri": "https://localhost:8080/"
        },
        "id": "lW2eVb_8f70d",
        "outputId": "6e86fe4b-d8ec-41dc-d070-928c09a5c38f"
      },
      "execution_count": null,
      "outputs": [
        {
          "output_type": "execute_result",
          "data": {
            "text/plain": [
              "[1, 4, 9, 16, 25, 36, 49]"
            ]
          },
          "metadata": {},
          "execution_count": 13
        }
      ]
    },
    {
      "cell_type": "code",
      "source": [
        "#ANOTHER EG\n",
        "names = ['Ally']\n",
        "\n",
        "list(map(lambda i:i[0],names)) #['A']\n",
        "\n",
        "#REVERSE STRING\n",
        "list(map(lambda i:i[::-1],names)) #['yllA']"
      ],
      "metadata": {
        "colab": {
          "base_uri": "https://localhost:8080/"
        },
        "id": "UfFk61txglfL",
        "outputId": "fb56c3d4-a3e9-4e05-f0c0-2e1978939db6"
      },
      "execution_count": null,
      "outputs": [
        {
          "output_type": "execute_result",
          "data": {
            "text/plain": [
              "['yllA']"
            ]
          },
          "metadata": {},
          "execution_count": 18
        }
      ]
    },
    {
      "cell_type": "markdown",
      "source": [
        "GLOBAL/LOCAL VARIABLES\n",
        "(Priority - LEGB RULE)\n",
        "L - Local variable within function\n",
        "E - Enclosing function locals (func immediately that this func is within)\n",
        "G - Global\n",
        "B - Built-in"
      ],
      "metadata": {
        "id": "wrvaRilpoyk0"
      }
    },
    {
      "cell_type": "code",
      "source": [
        "name = 'shreenidhi' #global variable to function hello()\n",
        "\n",
        "def greet():\n",
        "  global name #bringing shreenidhi as the global value into the local space\n",
        "  name = 'aadhitya' #enclosing variable to function hello()\n",
        "\n",
        "  def hello():\n",
        "    name = 'kalpana' #local variable to function hello()\n",
        "    print(\"hello \"+name)\n",
        "\n",
        "  hello()"
      ],
      "metadata": {
        "id": "2c5SzQcGo1dx"
      },
      "execution_count": null,
      "outputs": []
    },
    {
      "cell_type": "code",
      "source": [
        "greet() #hello kalpana\n",
        "print(name) #aadhitya #since \"global\" name is brought into the func, then any update is affected to x's value"
      ],
      "metadata": {
        "colab": {
          "base_uri": "https://localhost:8080/"
        },
        "id": "8I-2CPKtpLYP",
        "outputId": "588e4623-aea9-4c12-b531-28a58eeb7992"
      },
      "execution_count": null,
      "outputs": [
        {
          "output_type": "stream",
          "name": "stdout",
          "text": [
            "hello kalpana\n",
            "aadhitya\n"
          ]
        }
      ]
    },
    {
      "cell_type": "markdown",
      "source": [
        "PRACTICE PROBLEMS"
      ],
      "metadata": {
        "id": "3tgP9X0PTmaE"
      }
    },
    {
      "cell_type": "code",
      "source": [
        "def lesser_of_two_evens(a,b):\n",
        "  if a>b:\n",
        "    return b\n",
        "  else:\n",
        "    return a\n",
        "\n",
        "\n",
        "lesser_of_two_evens(2,4)\n"
      ],
      "metadata": {
        "colab": {
          "base_uri": "https://localhost:8080/"
        },
        "id": "I2ild8v1TnXu",
        "outputId": "bb40a3e6-8671-463a-ecc8-a525fdbd1c90"
      },
      "execution_count": null,
      "outputs": [
        {
          "output_type": "execute_result",
          "data": {
            "text/plain": [
              "2"
            ]
          },
          "metadata": {},
          "execution_count": 35
        }
      ]
    },
    {
      "cell_type": "code",
      "source": [
        "'''Write a function takes a two-word string and returns True if both words begin with same letter\n",
        "animal_crackers('Levelheaded Llama') --> True\n",
        "animal_crackers('Crazy Kangaroo') --> False'''\n",
        "\n",
        "def animal_crackers(string):\n",
        "  word = string.split(\" \")\n",
        "\n",
        "  a = word[0]\n",
        "  b = word[1]\n",
        "\n",
        "  if a[0] == b[0]:\n",
        "    return True\n",
        "  else:\n",
        "    return False\n",
        "\n",
        "animal_crackers('Levelheaded Llama')\n",
        "animal_crackers('Crazy Kangaroo')"
      ],
      "metadata": {
        "id": "8XH1sEqYWPi0"
      },
      "execution_count": null,
      "outputs": []
    },
    {
      "cell_type": "code",
      "source": [
        "def makes_twenty(a,b):\n",
        "  if a+b==20:\n",
        "    return True\n",
        "  elif a==20 or b==20:\n",
        "    return True\n",
        "  else:\n",
        "    return False"
      ],
      "metadata": {
        "id": "3CO5lXSXaktu"
      },
      "execution_count": null,
      "outputs": []
    },
    {
      "cell_type": "code",
      "source": [
        "makes_twenty(11,10)"
      ],
      "metadata": {
        "colab": {
          "base_uri": "https://localhost:8080/"
        },
        "id": "WhW8uXpebDqJ",
        "outputId": "04d59760-ef68-4430-c887-ba6001eb98db"
      },
      "execution_count": null,
      "outputs": [
        {
          "output_type": "execute_result",
          "data": {
            "text/plain": [
              "False"
            ]
          },
          "metadata": {},
          "execution_count": 71
        }
      ]
    },
    {
      "cell_type": "markdown",
      "source": [
        "OBJECT ORIENTED PROGRAMMING"
      ],
      "metadata": {
        "id": "PxheHqqKdNku"
      }
    },
    {
      "cell_type": "markdown",
      "source": [
        "CLASS SYNTAX:\n",
        "\n",
        "class NameOfClass():\n",
        "    \n",
        "    #paramX is a Class Object Variable (same as param1,param2 within init)\n",
        "    paramX = 'XXX'\n",
        "    \n",
        "    #__init__ is instance of the actual object - special method\n",
        "    #param1, param2 are attributes of the function (instead of global var)\n",
        "\n",
        "    def __init__(self,param1,param2):\n",
        "        self.param1 = param1\n",
        "        self.param2 = param2\n",
        "\n",
        "    def some_method(self):\n",
        "        #perform some action\n",
        "        print(self.param1)"
      ],
      "metadata": {
        "id": "WwmcCMhkfGO2"
      }
    },
    {
      "cell_type": "code",
      "source": [
        "#EXAMPLE PROGRAM FOR __INIT__\n",
        "\n",
        "class Dog():\n",
        "\n",
        "  species = 'Mammals' #class object attribute\n",
        "\n",
        "  def __init__(self,breed,color,spots):\n",
        "    self.breed = breed #by convention LHS = RHS\n",
        "    self.colorful = color #self.my_attribute = paramter\n",
        "    self.spots = spots"
      ],
      "metadata": {
        "id": "zOPxrOzmfC94"
      },
      "execution_count": null,
      "outputs": []
    },
    {
      "cell_type": "code",
      "source": [
        "my_dog = Dog(breed='Lab',color='White',spots = False) #here you call the parameter COLOR - RHS\n",
        "type(my_dog)"
      ],
      "metadata": {
        "colab": {
          "base_uri": "https://localhost:8080/"
        },
        "id": "rw7403D3gVK8",
        "outputId": "9d4b764f-45c8-448a-aa50-ad2f29b5c8b1"
      },
      "execution_count": null,
      "outputs": [
        {
          "output_type": "execute_result",
          "data": {
            "text/plain": [
              "__main__.Dog"
            ]
          },
          "metadata": {},
          "execution_count": 15
        }
      ]
    },
    {
      "cell_type": "code",
      "source": [
        "my_dog.colorful #here you call the my_attribute COLORFUL - LHS"
      ],
      "metadata": {
        "colab": {
          "base_uri": "https://localhost:8080/",
          "height": 35
        },
        "id": "HTrz_MCbgjK4",
        "outputId": "f8f72d71-76d5-46ca-dd72-4abddeca3c9b"
      },
      "execution_count": null,
      "outputs": [
        {
          "output_type": "execute_result",
          "data": {
            "text/plain": [
              "'White'"
            ],
            "application/vnd.google.colaboratory.intrinsic+json": {
              "type": "string"
            }
          },
          "metadata": {},
          "execution_count": 16
        }
      ]
    },
    {
      "cell_type": "code",
      "source": [
        "my_dog.species"
      ],
      "metadata": {
        "colab": {
          "base_uri": "https://localhost:8080/",
          "height": 35
        },
        "id": "vtOvWGmhR5-1",
        "outputId": "01d0fe5b-9cc7-4b73-81b7-e954b08c45fc"
      },
      "execution_count": null,
      "outputs": [
        {
          "output_type": "execute_result",
          "data": {
            "text/plain": [
              "'Mammals'"
            ],
            "application/vnd.google.colaboratory.intrinsic+json": {
              "type": "string"
            }
          },
          "metadata": {},
          "execution_count": 17
        }
      ]
    },
    {
      "cell_type": "code",
      "source": [
        "#EXAMPLE PROGRAM FOR METHODS\n",
        "\n",
        "class Dog():\n",
        "\n",
        "  species = 'Mammals' #class object attribute\n",
        "\n",
        "  def __init__(self,breed,color):\n",
        "    self.breed = breed #by convention LHS = RHS\n",
        "    self.colorful = color #self.my_attribute = paramter\n",
        "\n",
        "\n",
        "  #method declaration\n",
        "  def bark(self):\n",
        "    print(\"WOOF! My breed is {}\".format(self.breed)) #here you reference self.my_attribute"
      ],
      "metadata": {
        "id": "CkkqEkxqSIw2"
      },
      "execution_count": null,
      "outputs": []
    },
    {
      "cell_type": "code",
      "source": [
        "doggy = Dog('Lab','White')\n",
        "doggy.bark() #calling a method includes (). For attributes we dont include brackets"
      ],
      "metadata": {
        "colab": {
          "base_uri": "https://localhost:8080/"
        },
        "id": "P54G42sGS26m",
        "outputId": "74df0906-d5b8-4ce0-95a2-286cb6b89758"
      },
      "execution_count": null,
      "outputs": [
        {
          "output_type": "stream",
          "name": "stdout",
          "text": [
            "WOOF! My breed is Lab\n"
          ]
        }
      ]
    },
    {
      "cell_type": "code",
      "source": [
        "#ANOTHER EXAMPLE\n",
        "class Circle():\n",
        "\n",
        "  pi = 3.14\n",
        "\n",
        "  def __init__(self,radius):\n",
        "    self.radius = radius\n",
        "    self.area = radius*radius*Circle.pi #this can be called as self.pi (or) Circle.pi\n",
        "\n",
        "  def circumference(self):\n",
        "    return self.radius*self.pi*2"
      ],
      "metadata": {
        "id": "xNWvXU6sdoAx"
      },
      "execution_count": null,
      "outputs": []
    },
    {
      "cell_type": "code",
      "source": [
        "circum = Circle(2)\n",
        "#circum.circumference() #12.56\n",
        "circum.area"
      ],
      "metadata": {
        "colab": {
          "base_uri": "https://localhost:8080/"
        },
        "id": "LVrS_ykCeDpa",
        "outputId": "b70ba38f-14fb-45e8-ff79-956c908c0e61"
      },
      "execution_count": null,
      "outputs": [
        {
          "output_type": "execute_result",
          "data": {
            "text/plain": [
              "12.56"
            ]
          },
          "metadata": {},
          "execution_count": 48
        }
      ]
    },
    {
      "cell_type": "markdown",
      "source": [
        "INHERITANCE\n",
        "(Child class inherits methods and attributes from parent class)"
      ],
      "metadata": {
        "id": "v2ho3n-4gFbj"
      }
    },
    {
      "cell_type": "code",
      "source": [
        "class Animal(): #main class - parent class\n",
        "\n",
        "  def __init__(self): #parent class initialization\n",
        "    print(\"Animal created\")\n",
        "\n",
        "  def who_am_i(self):\n",
        "    print(\"I am an animal\")\n",
        "\n",
        "  def eat(self): #parent class method\n",
        "    print(\"Animal is eating\")\n"
      ],
      "metadata": {
        "id": "fcr-Zpm4gG4W"
      },
      "execution_count": null,
      "outputs": []
    },
    {
      "cell_type": "code",
      "source": [
        "class Dog(): #child class\n",
        "\n",
        "  def __init__(self): #child class initialization\n",
        "    Animal.__init__(self) #creating an instance of the Animal class\n",
        "    print(\"Dog created\")\n",
        "\n",
        "  def eat(self): #over-writing method from Animal class\n",
        "    print(\"Animal is eating, which is a dog\")"
      ],
      "metadata": {
        "id": "45YoWf7JhWnr"
      },
      "execution_count": null,
      "outputs": []
    },
    {
      "cell_type": "code",
      "source": [
        "my_animal = Animal()\n",
        "my_dog = Dog()"
      ],
      "metadata": {
        "colab": {
          "base_uri": "https://localhost:8080/"
        },
        "id": "q0KHfkMXhw2v",
        "outputId": "00a81fcd-f643-41c7-c66d-9daa793bbf94"
      },
      "execution_count": null,
      "outputs": [
        {
          "output_type": "stream",
          "name": "stdout",
          "text": [
            "Animal created\n",
            "Animal created\n",
            "Dog created\n"
          ]
        }
      ]
    },
    {
      "cell_type": "code",
      "source": [
        "my_dog.eat()"
      ],
      "metadata": {
        "colab": {
          "base_uri": "https://localhost:8080/"
        },
        "id": "v-IIRPXBh4fe",
        "outputId": "595e76ce-d179-4a68-f68e-90f52ddca207"
      },
      "execution_count": null,
      "outputs": [
        {
          "output_type": "stream",
          "name": "stdout",
          "text": [
            "Animal is eating, which is a dog\n"
          ]
        }
      ]
    },
    {
      "cell_type": "markdown",
      "source": [
        "POLYMORPHISM\n",
        "(Different methods have same name)"
      ],
      "metadata": {
        "id": "oESA0_kUgHB-"
      }
    },
    {
      "cell_type": "code",
      "source": [
        "class Dog():\n",
        "\n",
        "  def __init__(self,name):\n",
        "    self.name = name\n",
        "\n",
        "  def sound(self): #method is sound, which is similar to the Cat Class\n",
        "    print(self.name+\" Says Woof\")\n"
      ],
      "metadata": {
        "id": "7IovjlbmmJyt"
      },
      "execution_count": null,
      "outputs": []
    },
    {
      "cell_type": "code",
      "source": [
        "class Cat():\n",
        "\n",
        "  def __init__(self,name):\n",
        "    self.name = name\n",
        "\n",
        "  def sound(self): #method is same as Dog class - this is an eg of Polymorphism\n",
        "    print(self.name+\" Says Meow\")"
      ],
      "metadata": {
        "id": "uRnzDn1boF3w"
      },
      "execution_count": null,
      "outputs": []
    },
    {
      "cell_type": "code",
      "source": [
        "ollie = Dog('Ollie')\n",
        "olivia = Cat('Olivia')\n",
        "\n",
        "olivia.name"
      ],
      "metadata": {
        "colab": {
          "base_uri": "https://localhost:8080/",
          "height": 35
        },
        "id": "VokP1VsXo6Yh",
        "outputId": "a8c8ff75-df8f-4fcf-c4fe-49a74e962e87"
      },
      "execution_count": null,
      "outputs": [
        {
          "output_type": "execute_result",
          "data": {
            "text/plain": [
              "'Olivia'"
            ],
            "application/vnd.google.colaboratory.intrinsic+json": {
              "type": "string"
            }
          },
          "metadata": {},
          "execution_count": 58
        }
      ]
    },
    {
      "cell_type": "markdown",
      "source": [
        "ABSTRAT CLASSES\n",
        "(Never expects to be instantiated, serves only as a base class)"
      ],
      "metadata": {
        "id": "NfUH2k9eQGUb"
      }
    },
    {
      "cell_type": "code",
      "source": [
        "class Animal():\n",
        "\n",
        "  def __init__(self,name):\n",
        "    self.name = name\n",
        "\n",
        "#THIS IS USED TO SHOW THAT SOUND() METHOD CAN BE USED BY CHILD CLASSES,\n",
        "#BUT CANNOT BE CALLED DIRECTLY FROM THE PARENT CLASS. SO,\n",
        "  def sound(self): #THIS IS AN ABSTRACT CLASS\n",
        "    raise NotImplementedError(\"Subclass must implement this abstract method\")\n",
        "\n",
        "\n",
        "class Dog():\n",
        "\n",
        "  def __init__(self,name):\n",
        "    self.name = name\n",
        "\n",
        "  def sound(self):\n",
        "    print(self.name+\" Says Woof\")\n",
        "\n",
        "\n",
        "class Cat():\n",
        "\n",
        "  def __init__(self,name):\n",
        "    self.name = name\n",
        "\n",
        "  def sound(self):\n",
        "    print(self.name+\" Says Meow\")"
      ],
      "metadata": {
        "id": "RpKj2pX1QIFQ"
      },
      "execution_count": null,
      "outputs": []
    },
    {
      "cell_type": "code",
      "source": [
        "ani = Animal(\"Toto\")\n",
        "ani.sound()"
      ],
      "metadata": {
        "colab": {
          "base_uri": "https://localhost:8080/",
          "height": 365
        },
        "id": "osbLq8vpRZvd",
        "outputId": "453eb9fa-11e8-4972-d4bb-83c3eaae7a9f"
      },
      "execution_count": null,
      "outputs": [
        {
          "output_type": "error",
          "ename": "NotImplementedError",
          "evalue": "ignored",
          "traceback": [
            "\u001b[0;31m---------------------------------------------------------------------------\u001b[0m",
            "\u001b[0;31mNotImplementedError\u001b[0m                       Traceback (most recent call last)",
            "\u001b[0;32m<ipython-input-7-4db1c5af3654>\u001b[0m in \u001b[0;36m<cell line: 2>\u001b[0;34m()\u001b[0m\n\u001b[1;32m      1\u001b[0m \u001b[0mani\u001b[0m \u001b[0;34m=\u001b[0m \u001b[0mAnimal\u001b[0m\u001b[0;34m(\u001b[0m\u001b[0;34m\"Toto\"\u001b[0m\u001b[0;34m)\u001b[0m\u001b[0;34m\u001b[0m\u001b[0;34m\u001b[0m\u001b[0m\n\u001b[0;32m----> 2\u001b[0;31m \u001b[0mani\u001b[0m\u001b[0;34m.\u001b[0m\u001b[0msound\u001b[0m\u001b[0;34m(\u001b[0m\u001b[0;34m)\u001b[0m\u001b[0;34m\u001b[0m\u001b[0;34m\u001b[0m\u001b[0m\n\u001b[0m",
            "\u001b[0;32m<ipython-input-6-bf5ed2cbfe1b>\u001b[0m in \u001b[0;36msound\u001b[0;34m(self)\u001b[0m\n\u001b[1;32m      7\u001b[0m \u001b[0;31m#BUT CANNOT BE CALLED DIRECTLY FROM THE PARENT CLASS. SO,\u001b[0m\u001b[0;34m\u001b[0m\u001b[0;34m\u001b[0m\u001b[0m\n\u001b[1;32m      8\u001b[0m   \u001b[0;32mdef\u001b[0m \u001b[0msound\u001b[0m\u001b[0;34m(\u001b[0m\u001b[0mself\u001b[0m\u001b[0;34m)\u001b[0m\u001b[0;34m:\u001b[0m \u001b[0;31m#THIS IS AN ABSTRACT CLASS\u001b[0m\u001b[0;34m\u001b[0m\u001b[0;34m\u001b[0m\u001b[0m\n\u001b[0;32m----> 9\u001b[0;31m     \u001b[0;32mraise\u001b[0m \u001b[0mNotImplementedError\u001b[0m\u001b[0;34m(\u001b[0m\u001b[0;34m\"Subclass must implement this abstract method\"\u001b[0m\u001b[0;34m)\u001b[0m\u001b[0;34m\u001b[0m\u001b[0;34m\u001b[0m\u001b[0m\n\u001b[0m\u001b[1;32m     10\u001b[0m \u001b[0;34m\u001b[0m\u001b[0m\n\u001b[1;32m     11\u001b[0m \u001b[0;34m\u001b[0m\u001b[0m\n",
            "\u001b[0;31mNotImplementedError\u001b[0m: Subclass must implement this abstract method"
          ]
        }
      ]
    },
    {
      "cell_type": "markdown",
      "source": [
        "OOPS - SPECIAL (MAGIC/DUNDER) METHODS"
      ],
      "metadata": {
        "id": "xL0u4lbLVtMF"
      }
    },
    {
      "cell_type": "markdown",
      "source": [
        "_ _str_ _ , _ _ len _ _ , _ _ del _ _ METHODS\n",
        "(Printing something when Class() with __init__ is called)"
      ],
      "metadata": {
        "id": "0Ixbs6qZTh3Y"
      }
    },
    {
      "cell_type": "code",
      "source": [
        "class Book():\n",
        "\n",
        "  def __init__(self,title,author,pages): #when print is called, only address will be printed and no info\n",
        "    self.title = title\n",
        "    self.author = author\n",
        "    self.pages = pages\n",
        "\n",
        "  def __str__(self): #when print(b) is called\n",
        "    return f\"{self.title} by {self.author}\"\n",
        "\n",
        "  def __len__(self): #when len(b) is called\n",
        "    return self.pages\n",
        "\n",
        "  def __del__(self): #used to print the following when del(b) is called\n",
        "    print(\"The object has been deleted\")"
      ],
      "metadata": {
        "id": "4hdz-yWnRvnr"
      },
      "execution_count": null,
      "outputs": []
    },
    {
      "cell_type": "code",
      "source": [
        "b = Book('Python','Jose',200)\n",
        "print(b) #can also be written as str(b)"
      ],
      "metadata": {
        "colab": {
          "base_uri": "https://localhost:8080/"
        },
        "id": "D4BuS9-GT_YR",
        "outputId": "a3eb312e-6b3e-4412-e631-deddb323c738"
      },
      "execution_count": null,
      "outputs": [
        {
          "output_type": "stream",
          "name": "stdout",
          "text": [
            "Python by Jose\n"
          ]
        }
      ]
    },
    {
      "cell_type": "code",
      "source": [
        "len(b)"
      ],
      "metadata": {
        "colab": {
          "base_uri": "https://localhost:8080/"
        },
        "id": "q2WPwWayUa_W",
        "outputId": "1924fc96-c342-4ba5-f019-3c208e39b533"
      },
      "execution_count": null,
      "outputs": [
        {
          "output_type": "execute_result",
          "data": {
            "text/plain": [
              "200"
            ]
          },
          "metadata": {},
          "execution_count": 16
        }
      ]
    },
    {
      "cell_type": "code",
      "source": [
        "#del b\n",
        "'''This line will delete the object from the computer's memory'''"
      ],
      "metadata": {
        "id": "X8F-BkhhUxk0"
      },
      "execution_count": null,
      "outputs": []
    },
    {
      "cell_type": "markdown",
      "source": [
        "MODULES"
      ],
      "metadata": {
        "id": "VRVq1xFFWDbR"
      }
    },
    {
      "cell_type": "markdown",
      "source": [
        "PyPI (Like NPM for Node.js)\n",
        "===Repository for open-source third party python packages\n",
        "\n",
        "pip install"
      ],
      "metadata": {
        "id": "bi3CBAtUWGfp"
      }
    },
    {
      "cell_type": "code",
      "source": [
        "#COMMAND LINE\n",
        "pip install <package_name>\n",
        "python3"
      ],
      "metadata": {
        "id": "4OLEiAPFGpiZ"
      },
      "execution_count": null,
      "outputs": []
    },
    {
      "cell_type": "code",
      "source": [
        "#VSCO IDE\n",
        "\n",
        "#mymodule.py\n",
        "def my_func():\n",
        "  print(\"This is my module\")\n",
        "\n",
        "''' ------------------------------- '''\n",
        "#myprog.py\n",
        "from mymodule import my_func\n",
        "myfunc()\n",
        "\n",
        "#terminal\n",
        "cd <directory>\n",
        "python3 myprog.py"
      ],
      "metadata": {
        "id": "uHqa6UCUMoeU"
      },
      "execution_count": null,
      "outputs": []
    },
    {
      "cell_type": "markdown",
      "source": [
        "PACKAGES"
      ],
      "metadata": {
        "id": "Q1RxB78qNmNm"
      }
    },
    {
      "cell_type": "markdown",
      "source": [
        "'''\n",
        "Packages will have Subpackages.\n",
        "When we create a new package, we make sure that each Package and Subpackages will:\n",
        "(1) Have a __init__.py file #This file can be created by us and kept blank cause it helps python understand that this file exists and so the directory is indentified as a Package/Sub-package."
      ],
      "metadata": {
        "id": "FW1rF7NYNowO"
      }
    },
    {
      "cell_type": "code",
      "source": [],
      "metadata": {
        "colab": {
          "base_uri": "https://localhost:8080/",
          "height": 514
        },
        "id": "jzc-LJ5sQxEG",
        "outputId": "050dff26-81d6-4caf-d71d-651bf76a18c1"
      },
      "execution_count": null,
      "outputs": [
        {
          "metadata": {
            "tags": null
          },
          "name": "stdout",
          "output_type": "stream",
          "text": [
            "LOSS\n"
          ]
        },
        {
          "output_type": "error",
          "ename": "KeyboardInterrupt",
          "evalue": "ignored",
          "traceback": [
            "\u001b[0;31m---------------------------------------------------------------------------\u001b[0m",
            "\u001b[0;31mKeyboardInterrupt\u001b[0m                         Traceback (most recent call last)",
            "\u001b[0;32m<ipython-input-2-79c919caa20a>\u001b[0m in \u001b[0;36m<cell line: 3>\u001b[0;34m()\u001b[0m\n\u001b[1;32m      3\u001b[0m \u001b[0;32mfor\u001b[0m \u001b[0mi\u001b[0m \u001b[0;32min\u001b[0m \u001b[0mrange\u001b[0m\u001b[0;34m(\u001b[0m\u001b[0mT\u001b[0m\u001b[0;34m)\u001b[0m\u001b[0;34m:\u001b[0m\u001b[0;34m\u001b[0m\u001b[0;34m\u001b[0m\u001b[0m\n\u001b[1;32m      4\u001b[0m \u001b[0;34m\u001b[0m\u001b[0m\n\u001b[0;32m----> 5\u001b[0;31m     \u001b[0mx\u001b[0m\u001b[0;34m,\u001b[0m\u001b[0my\u001b[0m \u001b[0;34m=\u001b[0m \u001b[0mmap\u001b[0m\u001b[0;34m(\u001b[0m\u001b[0mint\u001b[0m\u001b[0;34m,\u001b[0m\u001b[0minput\u001b[0m\u001b[0;34m(\u001b[0m\u001b[0;34m)\u001b[0m\u001b[0;34m.\u001b[0m\u001b[0msplit\u001b[0m\u001b[0;34m(\u001b[0m\u001b[0;34m)\u001b[0m\u001b[0;34m)\u001b[0m\u001b[0;34m\u001b[0m\u001b[0;34m\u001b[0m\u001b[0m\n\u001b[0m\u001b[1;32m      6\u001b[0m \u001b[0;34m\u001b[0m\u001b[0m\n\u001b[1;32m      7\u001b[0m     \u001b[0;32mif\u001b[0m \u001b[0mx\u001b[0m \u001b[0;34m>\u001b[0m \u001b[0my\u001b[0m\u001b[0;34m:\u001b[0m\u001b[0;34m\u001b[0m\u001b[0;34m\u001b[0m\u001b[0m\n",
            "\u001b[0;32m/usr/local/lib/python3.10/dist-packages/ipykernel/kernelbase.py\u001b[0m in \u001b[0;36mraw_input\u001b[0;34m(self, prompt)\u001b[0m\n\u001b[1;32m    849\u001b[0m                 \u001b[0;34m\"raw_input was called, but this frontend does not support input requests.\"\u001b[0m\u001b[0;34m\u001b[0m\u001b[0;34m\u001b[0m\u001b[0m\n\u001b[1;32m    850\u001b[0m             )\n\u001b[0;32m--> 851\u001b[0;31m         return self._input_request(str(prompt),\n\u001b[0m\u001b[1;32m    852\u001b[0m             \u001b[0mself\u001b[0m\u001b[0;34m.\u001b[0m\u001b[0m_parent_ident\u001b[0m\u001b[0;34m,\u001b[0m\u001b[0;34m\u001b[0m\u001b[0;34m\u001b[0m\u001b[0m\n\u001b[1;32m    853\u001b[0m             \u001b[0mself\u001b[0m\u001b[0;34m.\u001b[0m\u001b[0m_parent_header\u001b[0m\u001b[0;34m,\u001b[0m\u001b[0;34m\u001b[0m\u001b[0;34m\u001b[0m\u001b[0m\n",
            "\u001b[0;32m/usr/local/lib/python3.10/dist-packages/ipykernel/kernelbase.py\u001b[0m in \u001b[0;36m_input_request\u001b[0;34m(self, prompt, ident, parent, password)\u001b[0m\n\u001b[1;32m    893\u001b[0m             \u001b[0;32mexcept\u001b[0m \u001b[0mKeyboardInterrupt\u001b[0m\u001b[0;34m:\u001b[0m\u001b[0;34m\u001b[0m\u001b[0;34m\u001b[0m\u001b[0m\n\u001b[1;32m    894\u001b[0m                 \u001b[0;31m# re-raise KeyboardInterrupt, to truncate traceback\u001b[0m\u001b[0;34m\u001b[0m\u001b[0;34m\u001b[0m\u001b[0m\n\u001b[0;32m--> 895\u001b[0;31m                 \u001b[0;32mraise\u001b[0m \u001b[0mKeyboardInterrupt\u001b[0m\u001b[0;34m(\u001b[0m\u001b[0;34m\"Interrupted by user\"\u001b[0m\u001b[0;34m)\u001b[0m \u001b[0;32mfrom\u001b[0m \u001b[0;32mNone\u001b[0m\u001b[0;34m\u001b[0m\u001b[0;34m\u001b[0m\u001b[0m\n\u001b[0m\u001b[1;32m    896\u001b[0m             \u001b[0;32mexcept\u001b[0m \u001b[0mException\u001b[0m \u001b[0;32mas\u001b[0m \u001b[0me\u001b[0m\u001b[0;34m:\u001b[0m\u001b[0;34m\u001b[0m\u001b[0;34m\u001b[0m\u001b[0m\n\u001b[1;32m    897\u001b[0m                 \u001b[0mself\u001b[0m\u001b[0;34m.\u001b[0m\u001b[0mlog\u001b[0m\u001b[0;34m.\u001b[0m\u001b[0mwarning\u001b[0m\u001b[0;34m(\u001b[0m\u001b[0;34m\"Invalid Message:\"\u001b[0m\u001b[0;34m,\u001b[0m \u001b[0mexc_info\u001b[0m\u001b[0;34m=\u001b[0m\u001b[0;32mTrue\u001b[0m\u001b[0;34m)\u001b[0m\u001b[0;34m\u001b[0m\u001b[0;34m\u001b[0m\u001b[0m\n",
            "\u001b[0;31mKeyboardInterrupt\u001b[0m: Interrupted by user"
          ]
        }
      ]
    },
    {
      "cell_type": "markdown",
      "source": [
        "_ _ name _ _ and _ _ main _ _\n",
        "\n",
        "(These two are allocated immediately by python when a program is run)"
      ],
      "metadata": {
        "id": "-Z5yN0kBX2tk"
      }
    },
    {
      "cell_type": "code",
      "source": [
        "#Lets consider 2 programs - one.py and two.py\n",
        "\n",
        "#one.py\n",
        "\n",
        "def func():\n",
        "  print(\"Func() in two.py\")\n",
        "\n",
        "print(\"Line one\")\n",
        "\n",
        "if __name__ == \"__main__\":\n",
        "  print(\"One.py is being executed\")\n",
        "else:\n",
        "  print(\"One.py is being imported\")\n",
        "\n",
        "\n",
        "\n",
        "#two.py\n",
        "import one\n",
        "\n",
        "def func():\n",
        "  print(\"Func() in two.py\")\n",
        "\n",
        "print(\"Line two\")\n",
        "\n",
        "if __name__ == \"__main__\":\n",
        "  print(\"two.py is being executed\")\n",
        "else:\n",
        "  print(\"two.py is being imported\")"
      ],
      "metadata": {
        "id": "HsGOeL5mX99k"
      },
      "execution_count": null,
      "outputs": []
    },
    {
      "cell_type": "code",
      "source": [
        "#OUTPUTS\n",
        "\n",
        "#running one.py\n",
        "Line one\n",
        "One.py is being executed\n",
        "\n",
        "#running two.py\n",
        "Line one\n",
        "One.py is being imported\n",
        "Line two\n",
        "Func() in one.py\n",
        "two.py is being executed\n",
        "\n",
        "\n",
        "'''Explanation:\n",
        "Basically here __name__ == \"__main__\" is default and is executed everytime\n",
        "we run a python program. But here, we are attempting to modify it.\n",
        "Checking the conditions, we get the above outputs.\n",
        "\"If\" is executed when the program is directly executed.\n",
        "\"Else\" is executed when the other module called is imported.\n",
        "'''"
      ],
      "metadata": {
        "id": "wpWlOU7nZkS6"
      },
      "execution_count": null,
      "outputs": []
    },
    {
      "cell_type": "markdown",
      "source": [
        "Errors & Exception Handling\n",
        "\n",
        "(TRY, EXCEPT, FINALLY)\n",
        "\n",
        "\n",
        "\n",
        "try:\n",
        "  #WANT TO ATTEMPT THIS CODE\n",
        "  #MAY HAVE AN ERROR\n",
        "\n",
        "\n",
        "except:\n",
        "  #EXECUTES WHEN ERROR IN TRY\n",
        "\n",
        "\n",
        "finally:\n",
        "  #EXECUTES REGARDLESS OF ERROR"
      ],
      "metadata": {
        "id": "tG7ExKXEbAl8"
      }
    },
    {
      "cell_type": "code",
      "source": [
        "#SYNTAX\n",
        "def add(x,y):\n",
        "  return x+y\n",
        "\n",
        "num1 = 10\n",
        "\n",
        "try: #check if there is error in the following, if not - executes\n",
        "  num2 = (input())\n",
        "  add(num1,num2)\n",
        "\n",
        "except: #executes if error in try\n",
        "  print(\"Some new error has occured\")"
      ],
      "metadata": {
        "colab": {
          "base_uri": "https://localhost:8080/"
        },
        "id": "7Q7NTp1JbDcZ",
        "outputId": "496b2768-4032-4269-c0a5-76605aebead5"
      },
      "execution_count": null,
      "outputs": [
        {
          "output_type": "stream",
          "name": "stdout",
          "text": [
            "s\n",
            "Some new error has occured\n"
          ]
        }
      ]
    },
    {
      "cell_type": "code",
      "source": [
        "#MULTIPLE EXCEPTS\n",
        "#TypeError, OSError are a real errors (already known) - can be declared\n",
        "while True:\n",
        "    try:\n",
        "      f = open('testfile','r')\n",
        "      f.write(\"Write a test line\")\n",
        "    except TypeError: #input type is wrong and wont match\n",
        "      print(\"There was a type error\")\n",
        "    except OSError: #something like - 'r' permissions given, but 'w' is called\n",
        "      print(\"There was an OS Error\")\n",
        "    else:\n",
        "      print(\"Thank you\") #since While is mentioned, also executes when \"try\" is executed\n",
        "    finally: #always runs when there is no error in the above\n",
        "      print(\"I always run\")"
      ],
      "metadata": {
        "colab": {
          "base_uri": "https://localhost:8080/"
        },
        "id": "tOfbQeCXHAzQ",
        "outputId": "777c524e-03d5-43f9-f448-22a0c50b5855"
      },
      "execution_count": null,
      "outputs": [
        {
          "output_type": "stream",
          "name": "stdout",
          "text": [
            "There was an OS Error\n",
            "I always run\n"
          ]
        }
      ]
    },
    {
      "cell_type": "markdown",
      "source": [
        "PYTHON DECORATORS"
      ],
      "metadata": {
        "id": "X6dhQevaLf8-"
      }
    },
    {
      "cell_type": "code",
      "source": [
        "#Call Function into a Variable\n",
        "def hello(): #define a function\n",
        "  print(\"Hello!\")\n",
        "\n",
        "greet = hello() #assign the function to a variable greet"
      ],
      "metadata": {
        "colab": {
          "base_uri": "https://localhost:8080/"
        },
        "id": "EBNgRwjzLhtt",
        "outputId": "a06457a4-d9ac-4e0f-a7a6-47792b48fabc"
      },
      "execution_count": 20,
      "outputs": [
        {
          "output_type": "stream",
          "name": "stdout",
          "text": [
            "Hello!\n"
          ]
        }
      ]
    },
    {
      "cell_type": "code",
      "source": [
        "hello #will return the type"
      ],
      "metadata": {
        "colab": {
          "base_uri": "https://localhost:8080/"
        },
        "id": "iWnhBNT_MSIn",
        "outputId": "0ded91c1-100d-42a8-c30b-32087d611ec4"
      },
      "execution_count": 21,
      "outputs": [
        {
          "output_type": "execute_result",
          "data": {
            "text/plain": [
              "<function __main__.hello()>"
            ]
          },
          "metadata": {},
          "execution_count": 21
        }
      ]
    },
    {
      "cell_type": "code",
      "source": [
        "del hello #delete the function"
      ],
      "metadata": {
        "id": "itB9VcFeLuWy"
      },
      "execution_count": 22,
      "outputs": []
    },
    {
      "cell_type": "code",
      "source": [
        "greet #call the variable, you'll get the function's output even after its deleted"
      ],
      "metadata": {
        "id": "lKdkRizMLuZG"
      },
      "execution_count": 23,
      "outputs": []
    },
    {
      "cell_type": "code",
      "source": [
        "def hello(name = 'Nidhi'):\n",
        "  print(\"Hello function executed\")\n",
        "\n",
        "  def greet():\n",
        "    return \"Greet function executed\" #if you give print instead of return here, \"None\" is also an output because we are calling a function\n",
        "\n",
        "  def welcome():\n",
        "    return \"Welcome function executed\"\n",
        "\n",
        "  if name == 'Nidhi':\n",
        "    return greet\n",
        "  else:\n",
        "    return welcome"
      ],
      "metadata": {
        "id": "XbXih9kEFxm3"
      },
      "execution_count": 27,
      "outputs": []
    },
    {
      "cell_type": "code",
      "source": [
        "greet = hello()\n",
        "myfunc = hello('Nidhi')\n",
        "myfunc"
      ],
      "metadata": {
        "colab": {
          "base_uri": "https://localhost:8080/"
        },
        "id": "L0vDytqwF-2v",
        "outputId": "cbd4f158-fdfe-41af-95c2-6d49d7feb86c"
      },
      "execution_count": 29,
      "outputs": [
        {
          "output_type": "stream",
          "name": "stdout",
          "text": [
            "Hello function executed\n",
            "Hello function executed\n"
          ]
        },
        {
          "output_type": "execute_result",
          "data": {
            "text/plain": [
              "<function __main__.hello.<locals>.greet()>"
            ]
          },
          "metadata": {},
          "execution_count": 29
        }
      ]
    },
    {
      "cell_type": "markdown",
      "source": [
        "CALLING FUNCTION INSIDE FUNCTION"
      ],
      "metadata": {
        "id": "a3W2HnUDEe6o"
      }
    },
    {
      "cell_type": "code",
      "source": [
        "def hello():\n",
        "  print(\"Hello function executed\")\n",
        "\n",
        "  def greet():\n",
        "    return \"Greet function executed\" #if you give print instead of return here, \"None\" is also an output because we are calling a function\n",
        "\n",
        "  print(greet()) #calling function inside function\n"
      ],
      "metadata": {
        "id": "z5k54SG7EhNH"
      },
      "execution_count": 10,
      "outputs": []
    },
    {
      "cell_type": "code",
      "source": [
        "hello()"
      ],
      "metadata": {
        "colab": {
          "base_uri": "https://localhost:8080/"
        },
        "id": "DiWavk2FE3i5",
        "outputId": "d04f9bbf-289d-405f-ac60-41c80b32830c"
      },
      "execution_count": 11,
      "outputs": [
        {
          "output_type": "stream",
          "name": "stdout",
          "text": [
            "Hello function executed\n",
            "Greet function executed\n"
          ]
        }
      ]
    }
  ]
}